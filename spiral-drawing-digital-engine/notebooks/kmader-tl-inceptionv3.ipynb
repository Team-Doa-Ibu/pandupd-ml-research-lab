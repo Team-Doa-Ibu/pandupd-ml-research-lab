{
 "cells": [
  {
   "cell_type": "code",
   "execution_count": 1,
   "id": "7ef67447",
   "metadata": {},
   "outputs": [
    {
     "data": {
      "text/plain": [
       "WindowsPath('D:/Workspace/Repository/ml-research-lab/spiral-drawing-digital-engine')"
      ]
     },
     "execution_count": 1,
     "metadata": {},
     "output_type": "execute_result"
    }
   ],
   "source": [
    "import sys\n",
    "from pathlib import Path\n",
    "\n",
    "project_root = Path().resolve().parent \n",
    "sys.path.append(str(project_root))\n",
    "\n",
    "project_root"
   ]
  },
  {
   "cell_type": "code",
   "execution_count": 2,
   "id": "362483fd",
   "metadata": {},
   "outputs": [
    {
     "name": "stderr",
     "output_type": "stream",
     "text": [
      "Seed set to 123\n"
     ]
    }
   ],
   "source": [
    "import lightning as L\n",
    "from lightning.pytorch.loggers import CSVLogger\n",
    "from lightning.pytorch.callbacks import ModelCheckpoint, EarlyStopping, LearningRateMonitor\n",
    "import pandas as pd\n",
    "import numpy as np\n",
    "import torch\n",
    "import torch.nn as nn\n",
    "import torch.nn.functional as F\n",
    "import torch.optim as optim\n",
    "from torchmetrics import Accuracy, Precision, Recall, F1Score, AUROC\n",
    "import matplotlib.pyplot as plt\n",
    "import seaborn as sns\n",
    "\n",
    "L.pytorch.seed_everything(123)\n",
    "\n",
    "torch.set_float32_matmul_precision('medium')"
   ]
  },
  {
   "cell_type": "code",
   "execution_count": 3,
   "id": "93e5abf4",
   "metadata": {},
   "outputs": [
    {
     "name": "stdout",
     "output_type": "stream",
     "text": [
      "Using device: cuda\n"
     ]
    }
   ],
   "source": [
    "device = torch.device(\"cuda\" if torch.cuda.is_available() else \"cpu\")\n",
    "print(f\"Using device: {device}\")"
   ]
  },
  {
   "cell_type": "code",
   "execution_count": 4,
   "id": "b42c4687",
   "metadata": {},
   "outputs": [],
   "source": [
    "from torch.utils.data import DataLoader, Dataset\n",
    "from torchvision import transforms\n",
    "import os\n",
    "from PIL import Image\n"
   ]
  },
  {
   "cell_type": "code",
   "execution_count": 5,
   "id": "9c3aac1a",
   "metadata": {},
   "outputs": [],
   "source": [
    "from torchvision.models import inception_v3, Inception_V3_Weights"
   ]
  },
  {
   "cell_type": "markdown",
   "id": "77872cbe",
   "metadata": {},
   "source": [
    "# Load Dataset"
   ]
  },
  {
   "cell_type": "code",
   "execution_count": 6,
   "id": "cd5a0736",
   "metadata": {},
   "outputs": [],
   "source": [
    "data_dir = Path(project_root) / \"data\" / \"kmader\"\n",
    "train_dir = data_dir / \"training\"\n",
    "test_dir = data_dir / \"testing\""
   ]
  },
  {
   "cell_type": "markdown",
   "id": "27fb89a4",
   "metadata": {},
   "source": [
    "# DataLoader"
   ]
  },
  {
   "cell_type": "code",
   "execution_count": 7,
   "id": "78e668bf",
   "metadata": {},
   "outputs": [],
   "source": [
    "class ImageDataset(Dataset):\n",
    "    def __init__(self, data_dir, transform=None):\n",
    "        self.data_dir = data_dir\n",
    "        self.transform = transform\n",
    "        self.classes = os.listdir(data_dir)\n",
    "        self.class_to_idx = {cls_name: i for i, cls_name in enumerate(self.classes)}\n",
    "        \n",
    "        self.samples = []\n",
    "        for cls_name in self.classes:\n",
    "            cls_dir = os.path.join(data_dir, cls_name)\n",
    "            if os.path.isdir(cls_dir):\n",
    "                for img_name in os.listdir(cls_dir):\n",
    "                    if img_name.endswith(('.png', '.jpg', '.jpeg')):\n",
    "                        img_path = os.path.join(cls_dir, img_name)\n",
    "                        self.samples.append((img_path, self.class_to_idx[cls_name]))\n",
    "    \n",
    "    def __len__(self):\n",
    "        return len(self.samples)\n",
    "    \n",
    "    def __getitem__(self, idx):\n",
    "        img_path, label = self.samples[idx]\n",
    "        image = Image.open(img_path).convert('RGB')\n",
    "        \n",
    "        if self.transform:\n",
    "            image = self.transform(image)\n",
    "            \n",
    "        return image, label\n",
    "\n",
    "class SpiralDataModule(L.LightningDataModule):\n",
    "    def __init__(self, train_dir, test_dir, batch_size=16, image_size=299, val_split=0.2):\n",
    "        super().__init__()\n",
    "        self.train_dir = train_dir\n",
    "        self.test_dir = test_dir\n",
    "        self.batch_size = batch_size\n",
    "        self.image_size = image_size\n",
    "        self.val_split = val_split\n",
    "        \n",
    "    def setup(self, stage=None):\n",
    "        self.train_transform = transforms.Compose([\n",
    "            transforms.Resize((self.image_size+32, self.image_size+32)),\n",
    "            transforms.CenterCrop(self.image_size),\n",
    "            transforms.ToTensor(),\n",
    "            transforms.Normalize(mean=[0.485, 0.456, 0.406], std=[0.229, 0.224, 0.225])\n",
    "        ])\n",
    "        \n",
    "        self.test_transform = transforms.Compose([\n",
    "            transforms.Resize((self.image_size, self.image_size)),\n",
    "            transforms.ToTensor(),\n",
    "            transforms.Normalize(mean=[0.485, 0.456, 0.406], std=[0.229, 0.224, 0.225])\n",
    "        ])\n",
    "        \n",
    "        # Create datasets\n",
    "        train_full = ImageDataset(self.train_dir, transform=self.train_transform)\n",
    "        \n",
    "        # Split into train/val\n",
    "        train_size = int((1 - self.val_split) * len(train_full))\n",
    "        val_size = len(train_full) - train_size\n",
    "        self.train_dataset, self.val_dataset = torch.utils.data.random_split(\n",
    "            train_full, [train_size, val_size]\n",
    "        )\n",
    "        \n",
    "        # Test dataset\n",
    "        self.test_dataset = ImageDataset(self.test_dir, transform=self.test_transform)\n",
    "        \n",
    "        # Store number of classes for model initialization\n",
    "        self.num_classes = len(train_full.classes)\n",
    "        print(f\"Dataset has {self.num_classes} classes with {len(train_full)} training samples\")\n",
    "        \n",
    "    def train_dataloader(self):\n",
    "        return DataLoader(self.train_dataset, batch_size=self.batch_size, shuffle=True, num_workers=0)\n",
    "    \n",
    "    def val_dataloader(self):\n",
    "        return DataLoader(self.val_dataset, batch_size=self.batch_size, num_workers=0)\n",
    "    \n",
    "    def test_dataloader(self):\n",
    "        return DataLoader(self.test_dataset, batch_size=self.batch_size, num_workers=0)"
   ]
  },
  {
   "cell_type": "code",
   "execution_count": 8,
   "id": "6c6e888c",
   "metadata": {},
   "outputs": [
    {
     "name": "stdout",
     "output_type": "stream",
     "text": [
      "Class distribution:\n",
      "healthy: 36\n",
      "parkinson: 36\n",
      "Number of classes: 2\n"
     ]
    }
   ],
   "source": [
    "train_dataset_full = ImageDataset(train_dir, transform=None)\n",
    "class_counts = {}\n",
    "for _, label in train_dataset_full.samples:\n",
    "    class_name = list(train_dataset_full.class_to_idx.keys())[label]\n",
    "    class_counts[class_name] = class_counts.get(class_name, 0) + 1\n",
    "\n",
    "print(\"Class distribution:\")\n",
    "for class_name, count in class_counts.items():\n",
    "    print(f\"{class_name}: {count}\")\n",
    "\n",
    "# Check if binary or multiclass\n",
    "print(f\"Number of classes: {len(class_counts)}\")"
   ]
  },
  {
   "cell_type": "markdown",
   "id": "31e9073c",
   "metadata": {},
   "source": [
    "# Model"
   ]
  },
  {
   "cell_type": "code",
   "execution_count": 9,
   "id": "f3849e62",
   "metadata": {},
   "outputs": [],
   "source": [
    "class InceptionV3TransferLearning(L.LightningModule):\n",
    "    def __init__(self, num_classes=2, learning_rate=3e-4, freeze_backbone=True, \n",
    "                 weight_decay=0.01, gradient_clip_val=1.0, label_smoothing=0.1):\n",
    "        super().__init__()\n",
    "        self.save_hyperparameters()\n",
    "        \n",
    "        # Load pre-trained InceptionV3 model\n",
    "        self.model = inception_v3(weights=Inception_V3_Weights.IMAGENET1K_V1, )\n",
    "        self.model.aux_logits = False  # Disable auxiliary classifier for simplicity\n",
    "        \n",
    "        # Freeze backbone if specified\n",
    "        if freeze_backbone:\n",
    "            for param in self.model.parameters():\n",
    "                param.requires_grad = False\n",
    "                \n",
    "        # Replace the final fully connected layer\n",
    "        in_features = self.model.fc.in_features\n",
    "        \n",
    "        self.model.fc = nn.Sequential(\n",
    "            nn.Linear(in_features, 512),\n",
    "            nn.ReLU(),\n",
    "            nn.BatchNorm1d(512),\n",
    "            nn.Dropout(0.25),\n",
    "            nn.Linear(512, num_classes)\n",
    "        )\n",
    "        \n",
    "        # # Initialize weights properly for better training stability\n",
    "        # for m in self.model.fc.modules():\n",
    "        #     if isinstance(m, nn.Linear):\n",
    "        #         nn.init.kaiming_normal_(m.weight, mode='fan_out', nonlinearity='relu')\n",
    "        #         if m.bias is not None:\n",
    "        #             nn.init.constant_(m.bias, 0)\n",
    "        \n",
    "        # Define metrics\n",
    "        self.train_acc = Accuracy(task=\"multiclass\", num_classes=num_classes)\n",
    "        self.train_f1 = F1Score(task=\"multiclass\", num_classes=num_classes)\n",
    "        self.val_acc = Accuracy(task=\"multiclass\", num_classes=num_classes)\n",
    "        self.val_f1 = F1Score(task=\"multiclass\", num_classes=num_classes)\n",
    "        self.test_acc = Accuracy(task=\"multiclass\", num_classes=num_classes)\n",
    "        self.test_f1 = F1Score(task=\"multiclass\", num_classes=num_classes)\n",
    "    \n",
    "    def forward(self, x):\n",
    "        return self.model(x)\n",
    "    \n",
    "    def training_step(self, batch, batch_idx):\n",
    "        x, y = batch\n",
    "        logits = self(x)\n",
    "        loss = F.cross_entropy(logits, y, label_smoothing=self.hparams.label_smoothing)\n",
    "        preds = logits.softmax(dim=-1)\n",
    "        \n",
    "        # Log more metrics with on_step=False, on_epoch=True for epoch summaries\n",
    "        self.train_acc(preds, y)\n",
    "        self.train_f1(preds, y)\n",
    "        \n",
    "        self.log('train_loss', loss, prog_bar=True, on_step=True, on_epoch=True)\n",
    "        self.log('train_acc', self.train_acc, prog_bar=True, on_step=False, on_epoch=True)\n",
    "        self.log('train_f1', self.train_f1, on_step=False, on_epoch=True)\n",
    "        return loss\n",
    "    \n",
    "    def validation_step(self, batch, batch_idx):\n",
    "        x, y = batch\n",
    "        logits = self(x)\n",
    "        loss = F.cross_entropy(logits, y)\n",
    "        preds = logits.softmax(dim=-1)\n",
    "        \n",
    "        self.val_acc(preds, y)\n",
    "        self.val_f1(preds, y)\n",
    "        \n",
    "        self.log('val_loss', loss, prog_bar=True, on_epoch=True)\n",
    "        self.log('val_acc', self.val_acc, prog_bar=True, on_epoch=True)\n",
    "        self.log('val_f1', self.val_f1, on_epoch=True)\n",
    "    \n",
    "    def test_step(self, batch, batch_idx):\n",
    "        x, y = batch\n",
    "        logits = self(x)\n",
    "        loss = F.cross_entropy(logits, y)\n",
    "        self.test_acc(logits.softmax(dim=-1), y)\n",
    "        self.test_f1(logits.softmax(dim=-1), y)\n",
    "        \n",
    "        self.log('test_loss', loss)\n",
    "        self.log('test_acc', self.test_acc)\n",
    "        self.log('test_f1', self.test_f1)\n",
    "    \n",
    "    def configure_optimizers(self):\n",
    "        # Group parameters for different learning rates \n",
    "        # Only useful when backbone is unfrozen\n",
    "        backbone_params = []\n",
    "        head_params = []\n",
    "        \n",
    "        for name, param in self.named_parameters():\n",
    "            if 'fc' in name:\n",
    "                head_params.append(param)\n",
    "            elif param.requires_grad:\n",
    "                backbone_params.append(param)\n",
    "        \n",
    "        # Configure optimizer with weight decay\n",
    "        optimizer = torch.optim.AdamW(\n",
    "            [\n",
    "                {'params': backbone_params, 'lr': self.hparams.learning_rate * 0.1},\n",
    "                {'params': head_params, 'lr': self.hparams.learning_rate}\n",
    "            ],\n",
    "            lr=self.hparams.learning_rate,\n",
    "            weight_decay=self.hparams.weight_decay\n",
    "        )\n",
    "        \n",
    "        # Scheduler\n",
    "        scheduler = torch.optim.lr_scheduler.OneCycleLR(\n",
    "            optimizer, \n",
    "            max_lr=self.hparams.learning_rate,\n",
    "            total_steps=self.trainer.estimated_stepping_batches,\n",
    "            pct_start=0.1\n",
    "        )\n",
    "        \n",
    "        return {\n",
    "            \"optimizer\": optimizer,\n",
    "            \"lr_scheduler\": {\n",
    "                \"scheduler\": scheduler,\n",
    "                \"interval\": \"step\"\n",
    "            }\n",
    "        }"
   ]
  },
  {
   "cell_type": "code",
   "execution_count": 10,
   "id": "66a4163c",
   "metadata": {},
   "outputs": [],
   "source": [
    "class SelfAttentionPool(nn.Module):\n",
    "    def __init__(self, in_channels):\n",
    "        super().__init__()\n",
    "        self.attention_dim = max(in_channels // 8, 64)\n",
    "        self.query = nn.Linear(in_channels, self.attention_dim)\n",
    "        self.key = nn.Linear(in_channels, self.attention_dim)\n",
    "        self.value = nn.Linear(in_channels, in_channels)\n",
    "        self.gamma = nn.Parameter(torch.zeros(1))\n",
    "        self.softmax = nn.Softmax(dim=-1)\n",
    "        \n",
    "    def forward(self, x):\n",
    "        batch_size, channels, height, width = x.size()\n",
    "        spatial_size = height * width\n",
    "        \n",
    "        x_flat = x.view(batch_size, channels, spatial_size).permute(0, 2, 1)\n",
    "        \n",
    "        Q = self.query(x_flat)\n",
    "        K = self.key(x_flat)\n",
    "        V = self.value(x_flat)\n",
    "        \n",
    "        attention_scores = torch.bmm(Q, K.transpose(1, 2)) / (self.attention_dim ** 0.5)\n",
    "        attention_weights = self.softmax(attention_scores)\n",
    "        attended = torch.bmm(attention_weights, V)\n",
    "        \n",
    "        attended = attended.permute(0, 2, 1).view(batch_size, channels, height, width)\n",
    "        return self.gamma * attended + x\n",
    "\n",
    "class InceptionV3WithSelfAttention(L.LightningModule):\n",
    "    def __init__(self, num_classes=2, learning_rate=3e-4, freeze_backbone=True, \n",
    "                 weight_decay=0.01, gradient_clip_val=1.0, label_smoothing=0.1):\n",
    "        super().__init__()\n",
    "        self.save_hyperparameters()\n",
    "        \n",
    "        self.backbone = inception_v3(weights=Inception_V3_Weights.IMAGENET1K_V1)\n",
    "        self.backbone.aux_logits = False\n",
    "        \n",
    "        if freeze_backbone:\n",
    "            for param in self.backbone.parameters():\n",
    "                param.requires_grad = False\n",
    "        \n",
    "        self.attention = SelfAttentionPool(2048)\n",
    "        self.global_pool = nn.AdaptiveAvgPool2d(1)\n",
    "        \n",
    "        self.classifier = nn.Sequential(\n",
    "            nn.Linear(2048, 512),\n",
    "            nn.ReLU(),\n",
    "            nn.BatchNorm1d(512),\n",
    "            nn.Dropout(0.25),\n",
    "            nn.Linear(512, num_classes)\n",
    "        )\n",
    "        \n",
    "        self._init_metrics(num_classes)\n",
    "    \n",
    "    def _init_metrics(self, num_classes):\n",
    "        self.train_acc = Accuracy(task=\"multiclass\", num_classes=num_classes)\n",
    "        self.train_f1 = F1Score(task=\"multiclass\", num_classes=num_classes)\n",
    "        self.val_acc = Accuracy(task=\"multiclass\", num_classes=num_classes)\n",
    "        self.val_f1 = F1Score(task=\"multiclass\", num_classes=num_classes)\n",
    "        self.test_acc = Accuracy(task=\"multiclass\", num_classes=num_classes)\n",
    "        self.test_f1 = F1Score(task=\"multiclass\", num_classes=num_classes)\n",
    "    \n",
    "    def _extract_features(self, x):\n",
    "        x = self.backbone.Conv2d_1a_3x3(x)\n",
    "        x = self.backbone.Conv2d_2a_3x3(x)\n",
    "        x = self.backbone.Conv2d_2b_3x3(x)\n",
    "        x = self.backbone.maxpool1(x)\n",
    "        x = self.backbone.Conv2d_3b_1x1(x)\n",
    "        x = self.backbone.Conv2d_4a_3x3(x)\n",
    "        x = self.backbone.maxpool2(x)\n",
    "        x = self.backbone.Mixed_5b(x)\n",
    "        x = self.backbone.Mixed_5c(x)\n",
    "        x = self.backbone.Mixed_5d(x)\n",
    "        x = self.backbone.Mixed_6a(x)\n",
    "        x = self.backbone.Mixed_6b(x)\n",
    "        x = self.backbone.Mixed_6c(x)\n",
    "        x = self.backbone.Mixed_6d(x)\n",
    "        x = self.backbone.Mixed_6e(x)\n",
    "        x = self.backbone.Mixed_7a(x)\n",
    "        x = self.backbone.Mixed_7b(x)\n",
    "        x = self.backbone.Mixed_7c(x)\n",
    "        return x\n",
    "    \n",
    "    def forward(self, x):\n",
    "        features = self._extract_features(x)\n",
    "        attended_features = self.attention(features)\n",
    "        pooled = self.global_pool(attended_features)\n",
    "        flattened = torch.flatten(pooled, 1)\n",
    "        return self.classifier(flattened)\n",
    "    \n",
    "    def _compute_loss_and_metrics(self, batch, metric_prefix):\n",
    "        x, y = batch\n",
    "        logits = self(x)\n",
    "        loss = F.cross_entropy(logits, y, label_smoothing=self.hparams.label_smoothing)\n",
    "        preds = logits.softmax(dim=-1)\n",
    "        \n",
    "        acc_metric = getattr(self, f\"{metric_prefix}_acc\")\n",
    "        f1_metric = getattr(self, f\"{metric_prefix}_f1\")\n",
    "        \n",
    "        acc_metric(preds, y)\n",
    "        f1_metric(preds, y)\n",
    "        \n",
    "        return loss, preds\n",
    "    \n",
    "    def training_step(self, batch, batch_idx):\n",
    "        loss, _ = self._compute_loss_and_metrics(batch, \"train\")\n",
    "        \n",
    "        self.log('train_loss', loss, prog_bar=True, on_step=True, on_epoch=True)\n",
    "        self.log('train_acc', self.train_acc, prog_bar=True, on_step=False, on_epoch=True)\n",
    "        self.log('train_f1', self.train_f1, on_step=False, on_epoch=True)\n",
    "        return loss\n",
    "    \n",
    "    def validation_step(self, batch, batch_idx):\n",
    "        loss, _ = self._compute_loss_and_metrics(batch, \"val\")\n",
    "        \n",
    "        self.log('val_loss', loss, prog_bar=True, on_epoch=True)\n",
    "        self.log('val_acc', self.val_acc, prog_bar=True, on_epoch=True)\n",
    "        self.log('val_f1', self.val_f1, on_epoch=True)\n",
    "    \n",
    "    def test_step(self, batch, batch_idx):\n",
    "        loss, _ = self._compute_loss_and_metrics(batch, \"test\")\n",
    "        \n",
    "        self.log('test_loss', loss)\n",
    "        self.log('test_acc', self.test_acc)\n",
    "        self.log('test_f1', self.test_f1)\n",
    "    \n",
    "    def configure_optimizers(self):\n",
    "        param_groups = [\n",
    "            {'params': [p for n, p in self.named_parameters() if 'backbone' in n and p.requires_grad], \n",
    "             'lr': self.hparams.learning_rate * 0.1},\n",
    "            {'params': [p for n, p in self.named_parameters() if 'attention' in n], \n",
    "             'lr': self.hparams.learning_rate * 0.5},\n",
    "            {'params': [p for n, p in self.named_parameters() if 'classifier' in n], \n",
    "             'lr': self.hparams.learning_rate}\n",
    "        ]\n",
    "        \n",
    "        optimizer = torch.optim.AdamW(\n",
    "            param_groups,\n",
    "            lr=self.hparams.learning_rate,\n",
    "            weight_decay=self.hparams.weight_decay\n",
    "        )\n",
    "        \n",
    "        scheduler = torch.optim.lr_scheduler.OneCycleLR(\n",
    "            optimizer, \n",
    "            max_lr=self.hparams.learning_rate,\n",
    "            total_steps=self.trainer.estimated_stepping_batches,\n",
    "            pct_start=0.1\n",
    "        )\n",
    "        \n",
    "        return {\n",
    "            \"optimizer\": optimizer,\n",
    "            \"lr_scheduler\": {\"scheduler\": scheduler, \"interval\": \"step\"}\n",
    "        }"
   ]
  },
  {
   "cell_type": "markdown",
   "id": "e9b5de5e",
   "metadata": {},
   "source": [
    "# Train"
   ]
  },
  {
   "cell_type": "code",
   "execution_count": 11,
   "id": "2c36c45c",
   "metadata": {},
   "outputs": [
    {
     "name": "stdout",
     "output_type": "stream",
     "text": [
      "Dataset has 2 classes with 72 training samples\n"
     ]
    },
    {
     "name": "stderr",
     "output_type": "stream",
     "text": [
      "Using 16bit Automatic Mixed Precision (AMP)\n",
      "GPU available: True (cuda), used: True\n",
      "TPU available: False, using: 0 TPU cores\n",
      "HPU available: False, using: 0 HPUs\n"
     ]
    }
   ],
   "source": [
    "data_module = SpiralDataModule(\n",
    "    train_dir=train_dir,\n",
    "    test_dir=test_dir,\n",
    "    batch_size=16,  \n",
    "    image_size=299  \n",
    ")\n",
    "\n",
    "data_module.setup()\n",
    "\n",
    "# model = InceptionV3TransferLearning(\n",
    "#     num_classes=data_module.num_classes,\n",
    "#     learning_rate=1e-4,       \n",
    "#     freeze_backbone=True,        \n",
    "#     weight_decay=0.015,           \n",
    "#     gradient_clip_val=0.5,     \n",
    "#     label_smoothing=0.1          \n",
    "# )\n",
    "\n",
    "model = InceptionV3WithSelfAttention(\n",
    "    num_classes=data_module.num_classes,\n",
    "    learning_rate=1e-4,       \n",
    "    freeze_backbone=True,        \n",
    "    weight_decay=0.015,           \n",
    "    gradient_clip_val=0.5,     \n",
    "    label_smoothing=0.1          \n",
    ")\n",
    "\n",
    "checkpoint_callback = ModelCheckpoint(\n",
    "    dirpath=str(project_root / \"logs\" / \"inception_checkpoints\"),\n",
    "    filename=\"inception-pool-{epoch:02d}-{val_acc:.4f}\",\n",
    "    monitor=\"val_acc\",\n",
    "    mode=\"max\",\n",
    "    save_top_k=3,\n",
    "    save_last=True\n",
    ")\n",
    "\n",
    "early_stop_callback = EarlyStopping(\n",
    "    monitor=\"val_loss\",\n",
    "    patience=10,\n",
    "    verbose=True,\n",
    "    mode=\"min\"\n",
    ")\n",
    "\n",
    "lr_monitor = LearningRateMonitor(logging_interval='epoch')\n",
    "logger = CSVLogger(save_dir=str(project_root / \"logs\" / \"inception_logs\"))\n",
    "\n",
    "trainer = L.Trainer(\n",
    "    max_epochs=60,               \n",
    "    accelerator=\"auto\",\n",
    "    devices=1,\n",
    "    logger=logger,\n",
    "    callbacks=[checkpoint_callback, early_stop_callback, lr_monitor],\n",
    "    gradient_clip_val=0.5,\n",
    "    gradient_clip_algorithm=\"norm\",\n",
    "    accumulate_grad_batches=4, \n",
    "    precision=\"16-mixed\"         \n",
    ")"
   ]
  },
  {
   "cell_type": "code",
   "execution_count": 12,
   "id": "1a449377",
   "metadata": {},
   "outputs": [
    {
     "name": "stderr",
     "output_type": "stream",
     "text": [
      "d:\\Workspace\\Repository\\ml-research-lab\\.ml-research-lab-venv\\Lib\\site-packages\\lightning\\pytorch\\callbacks\\model_checkpoint.py:658: Checkpoint directory D:\\Workspace\\Repository\\ml-research-lab\\spiral-drawing-digital-engine\\logs\\inception_checkpoints exists and is not empty.\n",
      "LOCAL_RANK: 0 - CUDA_VISIBLE_DEVICES: [0]\n",
      "Loading `train_dataloader` to estimate number of stepping batches.\n",
      "d:\\Workspace\\Repository\\ml-research-lab\\.ml-research-lab-venv\\Lib\\site-packages\\lightning\\pytorch\\trainer\\connectors\\data_connector.py:425: The 'train_dataloader' does not have many workers which may be a bottleneck. Consider increasing the value of the `num_workers` argument` to `num_workers=15` in the `DataLoader` to improve performance.\n",
      "d:\\Workspace\\Repository\\ml-research-lab\\.ml-research-lab-venv\\Lib\\site-packages\\lightning\\pytorch\\loops\\fit_loop.py:310: The number of training batches (4) is smaller than the logging interval Trainer(log_every_n_steps=50). Set a lower value for log_every_n_steps if you want to see logs for the training epoch.\n",
      "\n",
      "  | Name        | Type               | Params | Mode \n",
      "-----------------------------------------------------------\n",
      "0 | backbone    | Inception3         | 27.2 M | train\n",
      "1 | attention   | SelfAttentionPool  | 5.2 M  | train\n",
      "2 | global_pool | AdaptiveAvgPool2d  | 0      | train\n",
      "3 | classifier  | Sequential         | 1.1 M  | train\n",
      "4 | train_acc   | MulticlassAccuracy | 0      | train\n",
      "5 | train_f1    | MulticlassF1Score  | 0      | train\n",
      "6 | val_acc     | MulticlassAccuracy | 0      | train\n",
      "7 | val_f1      | MulticlassF1Score  | 0      | train\n",
      "8 | test_acc    | MulticlassAccuracy | 0      | train\n",
      "9 | test_f1     | MulticlassF1Score  | 0      | train\n",
      "-----------------------------------------------------------\n",
      "6.3 M     Trainable params\n",
      "27.2 M    Non-trainable params\n",
      "33.5 M    Total params\n",
      "133.831   Total estimated model params size (MB)\n",
      "325       Modules in train mode\n",
      "0         Modules in eval mode\n"
     ]
    },
    {
     "name": "stdout",
     "output_type": "stream",
     "text": [
      "Dataset has 2 classes with 72 training samples\n"
     ]
    },
    {
     "data": {
      "application/vnd.jupyter.widget-view+json": {
       "model_id": "2adbfedbf18e4f80a5907d0ab64f70f2",
       "version_major": 2,
       "version_minor": 0
      },
      "text/plain": [
       "Sanity Checking: |          | 0/? [00:00<?, ?it/s]"
      ]
     },
     "metadata": {},
     "output_type": "display_data"
    },
    {
     "name": "stderr",
     "output_type": "stream",
     "text": [
      "d:\\Workspace\\Repository\\ml-research-lab\\.ml-research-lab-venv\\Lib\\site-packages\\lightning\\pytorch\\trainer\\connectors\\data_connector.py:425: The 'val_dataloader' does not have many workers which may be a bottleneck. Consider increasing the value of the `num_workers` argument` to `num_workers=15` in the `DataLoader` to improve performance.\n"
     ]
    },
    {
     "data": {
      "application/vnd.jupyter.widget-view+json": {
       "model_id": "255aa156bed042e9a89f72911a285dcd",
       "version_major": 2,
       "version_minor": 0
      },
      "text/plain": [
       "Training: |          | 0/? [00:00<?, ?it/s]"
      ]
     },
     "metadata": {},
     "output_type": "display_data"
    },
    {
     "data": {
      "application/vnd.jupyter.widget-view+json": {
       "model_id": "49f8e7ba2832456ea65d456ab5c40c17",
       "version_major": 2,
       "version_minor": 0
      },
      "text/plain": [
       "Validation: |          | 0/? [00:00<?, ?it/s]"
      ]
     },
     "metadata": {},
     "output_type": "display_data"
    },
    {
     "name": "stderr",
     "output_type": "stream",
     "text": [
      "Metric val_loss improved. New best score: 0.681\n"
     ]
    },
    {
     "data": {
      "application/vnd.jupyter.widget-view+json": {
       "model_id": "01d551a032f148d18a28b8fcacb65100",
       "version_major": 2,
       "version_minor": 0
      },
      "text/plain": [
       "Validation: |          | 0/? [00:00<?, ?it/s]"
      ]
     },
     "metadata": {},
     "output_type": "display_data"
    },
    {
     "data": {
      "application/vnd.jupyter.widget-view+json": {
       "model_id": "dee67c116d8241dfb50ab77c07e8a620",
       "version_major": 2,
       "version_minor": 0
      },
      "text/plain": [
       "Validation: |          | 0/? [00:00<?, ?it/s]"
      ]
     },
     "metadata": {},
     "output_type": "display_data"
    },
    {
     "name": "stderr",
     "output_type": "stream",
     "text": [
      "Metric val_loss improved by 0.012 >= min_delta = 0.0. New best score: 0.669\n"
     ]
    },
    {
     "data": {
      "application/vnd.jupyter.widget-view+json": {
       "model_id": "3f9938caff0c40cf8f50d5248235c158",
       "version_major": 2,
       "version_minor": 0
      },
      "text/plain": [
       "Validation: |          | 0/? [00:00<?, ?it/s]"
      ]
     },
     "metadata": {},
     "output_type": "display_data"
    },
    {
     "name": "stderr",
     "output_type": "stream",
     "text": [
      "Metric val_loss improved by 0.034 >= min_delta = 0.0. New best score: 0.635\n"
     ]
    },
    {
     "data": {
      "application/vnd.jupyter.widget-view+json": {
       "model_id": "e349877fe13749deb910696a1277a9e0",
       "version_major": 2,
       "version_minor": 0
      },
      "text/plain": [
       "Validation: |          | 0/? [00:00<?, ?it/s]"
      ]
     },
     "metadata": {},
     "output_type": "display_data"
    },
    {
     "name": "stderr",
     "output_type": "stream",
     "text": [
      "Metric val_loss improved by 0.022 >= min_delta = 0.0. New best score: 0.612\n"
     ]
    },
    {
     "data": {
      "application/vnd.jupyter.widget-view+json": {
       "model_id": "4058a3f4bb104b75b816df2ccdddb3f7",
       "version_major": 2,
       "version_minor": 0
      },
      "text/plain": [
       "Validation: |          | 0/? [00:00<?, ?it/s]"
      ]
     },
     "metadata": {},
     "output_type": "display_data"
    },
    {
     "name": "stderr",
     "output_type": "stream",
     "text": [
      "Metric val_loss improved by 0.010 >= min_delta = 0.0. New best score: 0.602\n"
     ]
    },
    {
     "data": {
      "application/vnd.jupyter.widget-view+json": {
       "model_id": "1ccea507ae034bbdb0e2a768792478b8",
       "version_major": 2,
       "version_minor": 0
      },
      "text/plain": [
       "Validation: |          | 0/? [00:00<?, ?it/s]"
      ]
     },
     "metadata": {},
     "output_type": "display_data"
    },
    {
     "name": "stderr",
     "output_type": "stream",
     "text": [
      "Metric val_loss improved by 0.027 >= min_delta = 0.0. New best score: 0.575\n"
     ]
    },
    {
     "data": {
      "application/vnd.jupyter.widget-view+json": {
       "model_id": "8ca61794b1cb407c84865ae5fc13a86d",
       "version_major": 2,
       "version_minor": 0
      },
      "text/plain": [
       "Validation: |          | 0/? [00:00<?, ?it/s]"
      ]
     },
     "metadata": {},
     "output_type": "display_data"
    },
    {
     "name": "stderr",
     "output_type": "stream",
     "text": [
      "Metric val_loss improved by 0.027 >= min_delta = 0.0. New best score: 0.548\n"
     ]
    },
    {
     "data": {
      "application/vnd.jupyter.widget-view+json": {
       "model_id": "d545e5615b1f400f86d30b698b2314ab",
       "version_major": 2,
       "version_minor": 0
      },
      "text/plain": [
       "Validation: |          | 0/? [00:00<?, ?it/s]"
      ]
     },
     "metadata": {},
     "output_type": "display_data"
    },
    {
     "name": "stderr",
     "output_type": "stream",
     "text": [
      "Metric val_loss improved by 0.049 >= min_delta = 0.0. New best score: 0.498\n"
     ]
    },
    {
     "data": {
      "application/vnd.jupyter.widget-view+json": {
       "model_id": "b767fb7c43f44f29a0da5b0b97df8b5e",
       "version_major": 2,
       "version_minor": 0
      },
      "text/plain": [
       "Validation: |          | 0/? [00:00<?, ?it/s]"
      ]
     },
     "metadata": {},
     "output_type": "display_data"
    },
    {
     "name": "stderr",
     "output_type": "stream",
     "text": [
      "Metric val_loss improved by 0.046 >= min_delta = 0.0. New best score: 0.453\n"
     ]
    },
    {
     "data": {
      "application/vnd.jupyter.widget-view+json": {
       "model_id": "7b61fbc107a949b7bf9c18693a9a0e69",
       "version_major": 2,
       "version_minor": 0
      },
      "text/plain": [
       "Validation: |          | 0/? [00:00<?, ?it/s]"
      ]
     },
     "metadata": {},
     "output_type": "display_data"
    },
    {
     "data": {
      "application/vnd.jupyter.widget-view+json": {
       "model_id": "065bbb04fad941dda6b4f00f0407b2b7",
       "version_major": 2,
       "version_minor": 0
      },
      "text/plain": [
       "Validation: |          | 0/? [00:00<?, ?it/s]"
      ]
     },
     "metadata": {},
     "output_type": "display_data"
    },
    {
     "data": {
      "application/vnd.jupyter.widget-view+json": {
       "model_id": "899a4574f95a4deda43135012c9913c3",
       "version_major": 2,
       "version_minor": 0
      },
      "text/plain": [
       "Validation: |          | 0/? [00:00<?, ?it/s]"
      ]
     },
     "metadata": {},
     "output_type": "display_data"
    },
    {
     "name": "stderr",
     "output_type": "stream",
     "text": [
      "Metric val_loss improved by 0.025 >= min_delta = 0.0. New best score: 0.428\n"
     ]
    },
    {
     "data": {
      "application/vnd.jupyter.widget-view+json": {
       "model_id": "d2677ce671d04a71bce1873ead6718bb",
       "version_major": 2,
       "version_minor": 0
      },
      "text/plain": [
       "Validation: |          | 0/? [00:00<?, ?it/s]"
      ]
     },
     "metadata": {},
     "output_type": "display_data"
    },
    {
     "name": "stderr",
     "output_type": "stream",
     "text": [
      "Metric val_loss improved by 0.000 >= min_delta = 0.0. New best score: 0.427\n"
     ]
    },
    {
     "data": {
      "application/vnd.jupyter.widget-view+json": {
       "model_id": "eaca2ff576564ffeab78dd3efa041410",
       "version_major": 2,
       "version_minor": 0
      },
      "text/plain": [
       "Validation: |          | 0/? [00:00<?, ?it/s]"
      ]
     },
     "metadata": {},
     "output_type": "display_data"
    },
    {
     "data": {
      "application/vnd.jupyter.widget-view+json": {
       "model_id": "262fc530061443968f5e7bda67b8bded",
       "version_major": 2,
       "version_minor": 0
      },
      "text/plain": [
       "Validation: |          | 0/? [00:00<?, ?it/s]"
      ]
     },
     "metadata": {},
     "output_type": "display_data"
    },
    {
     "data": {
      "application/vnd.jupyter.widget-view+json": {
       "model_id": "8d9d7b4e797f496885d59748f1464a34",
       "version_major": 2,
       "version_minor": 0
      },
      "text/plain": [
       "Validation: |          | 0/? [00:00<?, ?it/s]"
      ]
     },
     "metadata": {},
     "output_type": "display_data"
    },
    {
     "data": {
      "application/vnd.jupyter.widget-view+json": {
       "model_id": "42faf961082f49008cee0d6014f93e13",
       "version_major": 2,
       "version_minor": 0
      },
      "text/plain": [
       "Validation: |          | 0/? [00:00<?, ?it/s]"
      ]
     },
     "metadata": {},
     "output_type": "display_data"
    },
    {
     "data": {
      "application/vnd.jupyter.widget-view+json": {
       "model_id": "32d7486755b44bfbb2ba41242301ea76",
       "version_major": 2,
       "version_minor": 0
      },
      "text/plain": [
       "Validation: |          | 0/? [00:00<?, ?it/s]"
      ]
     },
     "metadata": {},
     "output_type": "display_data"
    },
    {
     "data": {
      "application/vnd.jupyter.widget-view+json": {
       "model_id": "c52bc4dcd28842aba01d176fe5d95f6a",
       "version_major": 2,
       "version_minor": 0
      },
      "text/plain": [
       "Validation: |          | 0/? [00:00<?, ?it/s]"
      ]
     },
     "metadata": {},
     "output_type": "display_data"
    },
    {
     "data": {
      "application/vnd.jupyter.widget-view+json": {
       "model_id": "3e7fa57c8077415581ec78b2d9401192",
       "version_major": 2,
       "version_minor": 0
      },
      "text/plain": [
       "Validation: |          | 0/? [00:00<?, ?it/s]"
      ]
     },
     "metadata": {},
     "output_type": "display_data"
    },
    {
     "data": {
      "application/vnd.jupyter.widget-view+json": {
       "model_id": "677f2569f5ff485dbf3141be925f973b",
       "version_major": 2,
       "version_minor": 0
      },
      "text/plain": [
       "Validation: |          | 0/? [00:00<?, ?it/s]"
      ]
     },
     "metadata": {},
     "output_type": "display_data"
    },
    {
     "data": {
      "application/vnd.jupyter.widget-view+json": {
       "model_id": "e7fa9b31c9074e718558163d74c1efb8",
       "version_major": 2,
       "version_minor": 0
      },
      "text/plain": [
       "Validation: |          | 0/? [00:00<?, ?it/s]"
      ]
     },
     "metadata": {},
     "output_type": "display_data"
    },
    {
     "data": {
      "application/vnd.jupyter.widget-view+json": {
       "model_id": "7073045ff7d642c8b00f21b61596a0be",
       "version_major": 2,
       "version_minor": 0
      },
      "text/plain": [
       "Validation: |          | 0/? [00:00<?, ?it/s]"
      ]
     },
     "metadata": {},
     "output_type": "display_data"
    },
    {
     "name": "stderr",
     "output_type": "stream",
     "text": [
      "Monitored metric val_loss did not improve in the last 10 records. Best score: 0.427. Signaling Trainer to stop.\n"
     ]
    }
   ],
   "source": [
    "trainer.fit(model, data_module)"
   ]
  },
  {
   "cell_type": "markdown",
   "id": "17870ff2",
   "metadata": {},
   "source": [
    "# CV Train"
   ]
  },
  {
   "cell_type": "markdown",
   "id": "61b7c44f",
   "metadata": {},
   "source": [
    "# Eval"
   ]
  },
  {
   "cell_type": "code",
   "execution_count": 13,
   "id": "366835ad",
   "metadata": {},
   "outputs": [
    {
     "name": "stderr",
     "output_type": "stream",
     "text": [
      "LOCAL_RANK: 0 - CUDA_VISIBLE_DEVICES: [0]\n"
     ]
    },
    {
     "name": "stdout",
     "output_type": "stream",
     "text": [
      "Dataset has 2 classes with 72 training samples\n"
     ]
    },
    {
     "data": {
      "application/vnd.jupyter.widget-view+json": {
       "model_id": "28e0d6476a094643aecdddd50fc104a8",
       "version_major": 2,
       "version_minor": 0
      },
      "text/plain": [
       "Validation: |          | 0/? [00:00<?, ?it/s]"
      ]
     },
     "metadata": {},
     "output_type": "display_data"
    },
    {
     "name": "stdout",
     "output_type": "stream",
     "text": [
      "────────────────────────────────────────────────────────────────────────────────────────────────────────────────────────\n",
      "     Validate metric           DataLoader 0\n",
      "────────────────────────────────────────────────────────────────────────────────────────────────────────────────────────\n",
      "         val_acc             0.800000011920929\n",
      "         val_f1              0.800000011920929\n",
      "        val_loss            0.45216554403305054\n",
      "────────────────────────────────────────────────────────────────────────────────────────────────────────────────────────\n",
      "Validation accuracy: 0.8000\n"
     ]
    }
   ],
   "source": [
    "val_results = trainer.validate(model, data_module) \n",
    "print(f\"Validation accuracy: {val_results[0]['val_acc']:.4f}\")"
   ]
  },
  {
   "cell_type": "code",
   "execution_count": 14,
   "id": "16bfe05c",
   "metadata": {},
   "outputs": [
    {
     "name": "stderr",
     "output_type": "stream",
     "text": [
      "LOCAL_RANK: 0 - CUDA_VISIBLE_DEVICES: [0]\n"
     ]
    },
    {
     "name": "stdout",
     "output_type": "stream",
     "text": [
      "Dataset has 2 classes with 72 training samples\n"
     ]
    },
    {
     "name": "stderr",
     "output_type": "stream",
     "text": [
      "d:\\Workspace\\Repository\\ml-research-lab\\.ml-research-lab-venv\\Lib\\site-packages\\lightning\\pytorch\\trainer\\connectors\\data_connector.py:425: The 'test_dataloader' does not have many workers which may be a bottleneck. Consider increasing the value of the `num_workers` argument` to `num_workers=15` in the `DataLoader` to improve performance.\n"
     ]
    },
    {
     "data": {
      "application/vnd.jupyter.widget-view+json": {
       "model_id": "2c098524a8a6497894912f9a8e47f53c",
       "version_major": 2,
       "version_minor": 0
      },
      "text/plain": [
       "Testing: |          | 0/? [00:00<?, ?it/s]"
      ]
     },
     "metadata": {},
     "output_type": "display_data"
    },
    {
     "name": "stdout",
     "output_type": "stream",
     "text": [
      "────────────────────────────────────────────────────────────────────────────────────────────────────────────────────────\n",
      "       Test metric             DataLoader 0\n",
      "────────────────────────────────────────────────────────────────────────────────────────────────────────────────────────\n",
      "        test_acc            0.7333333492279053\n",
      "         test_f1            0.7333333492279053\n",
      "        test_loss           0.6583799719810486\n",
      "────────────────────────────────────────────────────────────────────────────────────────────────────────────────────────\n"
     ]
    },
    {
     "data": {
      "text/plain": [
       "[{'test_loss': 0.6583799719810486,\n",
       "  'test_acc': 0.7333333492279053,\n",
       "  'test_f1': 0.7333333492279053}]"
      ]
     },
     "execution_count": 14,
     "metadata": {},
     "output_type": "execute_result"
    }
   ],
   "source": [
    "# Evaluate the model\n",
    "trainer.test(model, data_module)"
   ]
  },
  {
   "cell_type": "code",
   "execution_count": 15,
   "id": "628de09c",
   "metadata": {},
   "outputs": [
    {
     "name": "stdout",
     "output_type": "stream",
     "text": [
      "Loading metrics from D:\\Workspace\\Repository\\ml-research-lab\\spiral-drawing-digital-engine\\logs\\inception_logs\\lightning_logs\\version_6\n"
     ]
    },
    {
     "data": {
      "image/png": "[encoded data removed]",
      "text/plain": [
       "<Figure size 1000x500 with 1 Axes>"
      ]
     },
     "metadata": {},
     "output_type": "display_data"
    },
    {
     "data": {
      "image/png": "[encoded data removed]",
      "text/plain": [
       "<Figure size 1000x500 with 1 Axes>"
      ]
     },
     "metadata": {},
     "output_type": "display_data"
    }
   ],
   "source": [
    "def get_latest_version_path(base_log_dir):\n",
    "    \"\"\"Find the latest version folder in Lightning logs directory\"\"\"\n",
    "    version_dirs = list(Path(base_log_dir).glob(\"version_*\"))\n",
    "    if not version_dirs:\n",
    "        raise FileNotFoundError(f\"No version folders found in {base_log_dir}\")\n",
    "    \n",
    "    # Extract version numbers and find the highest one\n",
    "    version_numbers = [int(path.name.split(\"_\")[1]) for path in version_dirs]\n",
    "    latest_version = max(version_numbers)\n",
    "    \n",
    "    return Path(base_log_dir) / f\"version_{latest_version}\"\n",
    "\n",
    "# Base logs directory\n",
    "logs_dir = project_root / \"logs\" / \"inception_logs\" / \"lightning_logs\"\n",
    "\n",
    "# Get latest version path\n",
    "latest_version_path = get_latest_version_path(logs_dir)\n",
    "print(f\"Loading metrics from {latest_version_path}\")\n",
    "\n",
    "# Load training metrics\n",
    "metrics = pd.read_csv(str(latest_version_path / \"metrics.csv\"))\n",
    "\n",
    "# Plot training and validation loss\n",
    "plt.figure(figsize=(10, 5))\n",
    "train_loss = metrics[metrics['train_loss_epoch'].notna()][['epoch', 'train_loss_epoch']].groupby('epoch').mean()\n",
    "val_loss = metrics[metrics['val_loss'].notna()][['epoch', 'val_loss']].groupby('epoch').mean()\n",
    "\n",
    "plt.plot(train_loss.index, train_loss['train_loss_epoch'], label='Train Loss')\n",
    "plt.plot(val_loss.index, val_loss['val_loss'], label='Validation Loss')\n",
    "plt.xlabel('Epoch')\n",
    "plt.ylabel('Loss')\n",
    "plt.legend()\n",
    "plt.title('Training and Validation Loss')\n",
    "plt.show()\n",
    "\n",
    "# Plot accuracy\n",
    "plt.figure(figsize=(10, 5))\n",
    "train_acc = metrics[metrics['train_acc'].notna()][['epoch', 'train_acc']].groupby('epoch').mean()\n",
    "val_acc = metrics[metrics['val_acc'].notna()][['epoch', 'val_acc']].groupby('epoch').mean()\n",
    "\n",
    "plt.plot(train_acc.index, train_acc['train_acc'], label='Train Accuracy')\n",
    "plt.plot(val_acc.index, val_acc['val_acc'], label='Validation Accuracy')\n",
    "plt.xlabel('Epoch')\n",
    "plt.ylabel('Accuracy')\n",
    "plt.legend()\n",
    "plt.title('Training and Validation Accuracy')\n",
    "plt.show()"
   ]
  },
  {
   "cell_type": "code",
   "execution_count": 16,
   "id": "0a854c0a",
   "metadata": {},
   "outputs": [],
   "source": [
    "# trainer.save_checkpoint(str(project_root / \"models\" / \"inception_v3_spiral_classifier.ckpt\"))"
   ]
  },
  {
   "cell_type": "code",
   "execution_count": 17,
   "id": "6a961946",
   "metadata": {},
   "outputs": [],
   "source": [
    "# torch.save(model.state_dict(), str(project_root / \"models\" / \"inception_v3_spiral_weights.pt\"))"
   ]
  },
  {
   "cell_type": "code",
   "execution_count": 18,
   "id": "a160509d",
   "metadata": {},
   "outputs": [],
   "source": [
    "# # Extract the actual PyTorch model\n",
    "# torch_model = model.model\n",
    "\n",
    "# # Save for deployment\n",
    "# torch.save(torch_model, str(project_root / \"models\" / \"inception_v3_spiral_production.pt\"))"
   ]
  }
 ],
 "metadata": {
  "kernelspec": {
   "display_name": ".ml-research-lab-venv",
   "language": "python",
   "name": "python3"
  },
  "language_info": {
   "codemirror_mode": {
    "name": "ipython",
    "version": 3
   },
   "file_extension": ".py",
   "mimetype": "text/x-python",
   "name": "python",
   "nbconvert_exporter": "python",
   "pygments_lexer": "ipython3",
   "version": "3.12.9"
  }
 },
 "nbformat": 4,
 "nbformat_minor": 5
}
