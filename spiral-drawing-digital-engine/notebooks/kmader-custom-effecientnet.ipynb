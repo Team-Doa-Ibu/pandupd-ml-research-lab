{
 "cells": [
  {
   "cell_type": "code",
   "execution_count": 52,
   "id": "15030ac4",
   "metadata": {},
   "outputs": [
    {
     "data": {
      "text/plain": [
       "WindowsPath('D:/Workspace/Repository/ml-research-lab/spiral-drawing-digital-engine')"
      ]
     },
     "execution_count": 52,
     "metadata": {},
     "output_type": "execute_result"
    }
   ],
   "source": [
    "import sys\n",
    "from pathlib import Path\n",
    "\n",
    "project_root = Path().resolve().parent \n",
    "sys.path.append(str(project_root))\n",
    "\n",
    "project_root"
   ]
  },
  {
   "cell_type": "code",
   "execution_count": 53,
   "id": "17401800",
   "metadata": {},
   "outputs": [],
   "source": [
    "import lightning as L\n",
    "from lightning.pytorch.loggers import CSVLogger\n",
    "from lightning.pytorch.callbacks import ModelCheckpoint, EarlyStopping, LearningRateMonitor\n",
    "import pandas as pd\n",
    "import numpy as np\n",
    "import torch\n",
    "import torch.nn as nn\n",
    "import torch.nn.functional as F\n",
    "from torchmetrics import Accuracy, Precision, Recall, F1Score, AUROC\n",
    "import matplotlib.pyplot as plt\n",
    "import seaborn as sns\n",
    "import matplotlib.pyplot as plt\n",
    "from argparse import ArgumentParser\n",
    "\n",
    "torch.set_float32_matmul_precision('medium')"
   ]
  },
  {
   "cell_type": "code",
   "execution_count": 54,
   "id": "84d5ed53",
   "metadata": {},
   "outputs": [],
   "source": [
    "from torch.utils.data import Dataset, DataLoader, Subset\n",
    "from torchvision.datasets import ImageFolder\n",
    "from torchvision import transforms\n",
    "import torchvision.models as models\n",
    "from lightning.pytorch import LightningDataModule\n",
    "from sklearn.model_selection import KFold"
   ]
  },
  {
   "cell_type": "code",
   "execution_count": 55,
   "id": "57252b4b",
   "metadata": {},
   "outputs": [],
   "source": [
    "import os\n",
    "from typing import Optional, List, Dict, Any"
   ]
  },
  {
   "cell_type": "code",
   "execution_count": 56,
   "id": "fc40c1ce",
   "metadata": {},
   "outputs": [
    {
     "name": "stdout",
     "output_type": "stream",
     "text": [
      "Using device: cuda\n"
     ]
    }
   ],
   "source": [
    "device = torch.device(\"cuda\" if torch.cuda.is_available() else \"cpu\")\n",
    "print(f\"Using device: {device}\")"
   ]
  },
  {
   "cell_type": "markdown",
   "id": "81e20464",
   "metadata": {},
   "source": [
    "# Load Dataset"
   ]
  },
  {
   "cell_type": "code",
   "execution_count": 57,
   "id": "39dffd78",
   "metadata": {},
   "outputs": [],
   "source": [
    "data_dir = Path(project_root) / \"data\" / \"kmader\"\n",
    "train_dir = data_dir / \"training\"\n",
    "test_dir = data_dir / \"testing\""
   ]
  },
  {
   "cell_type": "markdown",
   "id": "c311d9c3",
   "metadata": {},
   "source": [
    "# DataLoader"
   ]
  },
  {
   "cell_type": "code",
   "execution_count": 58,
   "id": "db44edaa",
   "metadata": {},
   "outputs": [
    {
     "data": {
      "text/plain": [
       "ImageClassification(\n",
       "    crop_size=[240]\n",
       "    resize_size=[256]\n",
       "    mean=[0.485, 0.456, 0.406]\n",
       "    std=[0.229, 0.224, 0.225]\n",
       "    interpolation=InterpolationMode.BICUBIC\n",
       ")"
      ]
     },
     "execution_count": 58,
     "metadata": {},
     "output_type": "execute_result"
    }
   ],
   "source": [
    "from torchvision.models import efficientnet_b1, EfficientNet_B1_Weights\n",
    "\n",
    "weights = EfficientNet_B1_Weights.IMAGENET1K_V1\n",
    "preprocess_transform = weights.transforms()\n",
    "preprocess_transform"
   ]
  },
  {
   "cell_type": "code",
   "execution_count": 59,
   "id": "ae3c9859",
   "metadata": {},
   "outputs": [],
   "source": [
    "class SpiralDrawingsDataset(Dataset):\n",
    "    def __init__(self, root_dir, transform=None):\n",
    "        \"\"\"\n",
    "        Custom dataset for spiral drawings classification (healthy vs parkinson)\n",
    "        Args:\n",
    "            root_dir: Root directory containing 'healthy' and 'parkinson' subdirectories\n",
    "            transform: Optional transforms to apply to images\n",
    "        \"\"\"\n",
    "        self.dataset = ImageFolder(root_dir, transform=transform)\n",
    "        self.classes = self.dataset.classes\n",
    "        \n",
    "    def __len__(self):\n",
    "        return len(self.dataset)\n",
    "        \n",
    "    def __getitem__(self, idx):\n",
    "        return self.dataset[idx]"
   ]
  },
  {
   "cell_type": "code",
   "execution_count": 60,
   "id": "d2c55284",
   "metadata": {},
   "outputs": [],
   "source": [
    "class SpiralDrawingsKFoldDataModule(LightningDataModule):\n",
    "    def __init__(self, \n",
    "                data_dir: str = \"d:/Workspace/Repository/ml-research-lab/spiral-drawing-digital-engine/data/kmader\",\n",
    "                k: int = 1,  # fold number\n",
    "                split_seed: int = 12345,\n",
    "                num_splits: int = 10,\n",
    "                batch_size: int = 32,\n",
    "                num_workers: int = 0,\n",
    "                pin_memory: bool = False,\n",
    "                use_test_set: bool = True,  # Whether to use the separate test set\n",
    "            ):\n",
    "            super().__init__()\n",
    "            \n",
    "            # Save hyperparameters\n",
    "            self.save_hyperparameters(logger=False)\n",
    "            \n",
    "            # Validation for k parameter\n",
    "            assert 1 <= k <= num_splits, f\"Fold number k must be between 1 and {num_splits}\"\n",
    "            \n",
    "            # Get official transforms for EfficientNet B1\n",
    "            weights = EfficientNet_B1_Weights.IMAGENET1K_V1\n",
    "            self.val_transforms = weights.transforms()\n",
    "            \n",
    "            # For training, add augmentations before the official transforms\n",
    "            self.train_transforms = transforms.Compose([\n",
    "                # First resize to standard size used by EfficientNet\n",
    "                transforms.Resize(256, interpolation=transforms.InterpolationMode.BICUBIC),\n",
    "                # Then apply augmentations\n",
    "                transforms.RandomRotation(10),\n",
    "                transforms.RandomHorizontalFlip(),\n",
    "                transforms.RandomVerticalFlip(),\n",
    "                transforms.ColorJitter(brightness=0.1, contrast=0.1),\n",
    "                # Then apply center crop, to-tensor and normalization\n",
    "                transforms.CenterCrop(240),  # EfficientNetB1 uses 240x240\n",
    "                transforms.ToTensor(),\n",
    "                transforms.Normalize(mean=[0.485, 0.456, 0.406], std=[0.229, 0.224, 0.225]),\n",
    "            ])\n",
    "            \n",
    "            # Placeholder for datasets\n",
    "            self.data_train: Optional[Dataset] = None\n",
    "            self.data_val: Optional[Dataset] = None\n",
    "            self.data_test: Optional[Dataset] = None\n",
    "\n",
    "    @property\n",
    "    def num_classes(self) -> int:\n",
    "        return 2  # healthy and parkinson\n",
    "\n",
    "    def setup(self, stage=None):\n",
    "        # Training dataset with augmentations\n",
    "        train_dataset = SpiralDrawingsDataset(\n",
    "            os.path.join(self.hparams.data_dir, \"training\"),\n",
    "            transform=self.train_transforms\n",
    "        )\n",
    "        \n",
    "        # Set up cross-validation splits\n",
    "        kf = KFold(n_splits=self.hparams.num_splits, shuffle=True, random_state=self.hparams.split_seed)\n",
    "        all_indices = np.arange(len(train_dataset))\n",
    "        all_splits = list(kf.split(all_indices))\n",
    "        \n",
    "        # Get indices for the specified fold\n",
    "        train_indices, val_indices = all_splits[self.hparams.k - 1]  # k is 1-indexed\n",
    "        \n",
    "        # Create subsets for training and validation\n",
    "        self.data_train = Subset(train_dataset, train_indices)\n",
    "        \n",
    "        # For validation, use val indices but with val transforms\n",
    "        val_dataset = SpiralDrawingsDataset(\n",
    "            os.path.join(self.hparams.data_dir, \"training\"),\n",
    "            transform=self.val_transforms\n",
    "        )\n",
    "        self.data_val = Subset(val_dataset, val_indices)\n",
    "        \n",
    "        # Set up test dataset if needed\n",
    "        if self.hparams.use_test_set:\n",
    "            self.data_test = SpiralDrawingsDataset(\n",
    "                os.path.join(self.hparams.data_dir, \"testing\"),\n",
    "                transform=self.val_transforms\n",
    "            )\n",
    "\n",
    "    def train_dataloader(self):\n",
    "        return DataLoader(\n",
    "            dataset=self.data_train,\n",
    "            batch_size=self.hparams.batch_size,\n",
    "            num_workers=self.hparams.num_workers,\n",
    "            pin_memory=self.hparams.pin_memory,\n",
    "            shuffle=True,\n",
    "        )\n",
    "\n",
    "    def val_dataloader(self):\n",
    "        return DataLoader(\n",
    "            dataset=self.data_val,\n",
    "            batch_size=self.hparams.batch_size,\n",
    "            num_workers=self.hparams.num_workers,\n",
    "            pin_memory=self.hparams.pin_memory,\n",
    "        )\n",
    "    \n",
    "    def test_dataloader(self):\n",
    "        if self.data_test:\n",
    "            return DataLoader(\n",
    "                dataset=self.data_test,\n",
    "                batch_size=self.hparams.batch_size,\n",
    "                num_workers=self.hparams.num_workers,\n",
    "                pin_memory=self.hparams.pin_memory,\n",
    "            )\n",
    "        return None"
   ]
  },
  {
   "cell_type": "markdown",
   "id": "63616fe8",
   "metadata": {},
   "source": [
    "# Model Building"
   ]
  },
  {
   "cell_type": "code",
   "execution_count": 61,
   "id": "31aaa082",
   "metadata": {},
   "outputs": [],
   "source": [
    "class SpiralDrawingModel(L.LightningModule):\n",
    "    def __init__(\n",
    "        self, \n",
    "        learning_rate: float = 1e-4,\n",
    "        weight_decay: float = 5e-3,\n",
    "        freeze_backbone: bool = False,\n",
    "        dropout_rate: float = 0.6,  \n",
    "        unfreeze_layers: int = 50  # Number of layers to unfreeze from the end\n",
    "    ):\n",
    "        super().__init__()\n",
    "        self.save_hyperparameters()\n",
    "        \n",
    "        # Load pre-trained EfficientNetB1\n",
    "        self.model = models.efficientnet_b1(weights=\"IMAGENET1K_V1\")\n",
    "        \n",
    "        # Get number of features from the model\n",
    "        num_features = self.model.classifier[1].in_features  \n",
    "        \n",
    "        # Handle freezing/unfreezing based on parameter\n",
    "        if freeze_backbone:\n",
    "            # Freeze all backbone layers\n",
    "            for param in self.model.features.parameters():\n",
    "                param.requires_grad = False\n",
    "        elif unfreeze_layers > 0:\n",
    "            # Freeze all layers first\n",
    "            for param in self.model.features.parameters():\n",
    "                param.requires_grad = False\n",
    "            \n",
    "            # Then unfreeze the last n layers\n",
    "            features_children = list(self.model.features.children())\n",
    "            layers_to_unfreeze = min(unfreeze_layers, len(features_children))\n",
    "            \n",
    "            for i in range(len(features_children) - layers_to_unfreeze, len(features_children)):\n",
    "                for param in features_children[i].parameters():\n",
    "                    param.requires_grad = True\n",
    "\n",
    "        # Replace the classifier with our custom classifier\n",
    "        self.model.classifier = nn.Sequential(\n",
    "            nn.Dropout(p=dropout_rate),\n",
    "            nn.Linear(num_features, 1024),\n",
    "            nn.ReLU(),\n",
    "            nn.BatchNorm1d(1024),\n",
    "            nn.Dropout(dropout_rate),\n",
    "            nn.Linear(1024, 512),\n",
    "            nn.ReLU(),\n",
    "            nn.BatchNorm1d(512),\n",
    "            nn.Dropout(dropout_rate - 0.1),\n",
    "            nn.Linear(512, 2)  # 2 classes for binary classification\n",
    "        )\n",
    "        \n",
    "        # Define metrics\n",
    "        self.train_acc = Accuracy(task=\"multiclass\", num_classes=2)\n",
    "        self.val_acc = Accuracy(task=\"multiclass\", num_classes=2)\n",
    "        self.test_acc = Accuracy(task=\"multiclass\", num_classes=2)\n",
    "        \n",
    "        # Additional metrics for validation\n",
    "        self.val_precision = Precision(task=\"multiclass\", num_classes=2, average='macro')\n",
    "        self.val_recall = Recall(task=\"multiclass\", num_classes=2, average='macro')\n",
    "        self.val_f1 = F1Score(task=\"multiclass\", num_classes=2, average='macro')\n",
    "        self.val_auroc = AUROC(task=\"multiclass\", num_classes=2)\n",
    "\n",
    "    def forward(self, x):\n",
    "        # The entire model is now a single unit\n",
    "        return self.model(x)\n",
    "    \n",
    "    # The rest of the methods remain the same\n",
    "    def _shared_step(self, batch):\n",
    "        x, y = batch\n",
    "        logits = self(x)\n",
    "        loss = F.cross_entropy(logits, y)\n",
    "        preds = torch.argmax(logits, dim=1)\n",
    "        return loss, preds, y, logits\n",
    "    \n",
    "    \n",
    "    def training_step(self, batch, batch_idx):\n",
    "        loss, preds, targets, _ = self._shared_step(batch)\n",
    "        \n",
    "        # Log metrics\n",
    "        self.train_acc(preds, targets)\n",
    "        self.log(\"train/loss\", loss, on_step=True, on_epoch=True, prog_bar=True)\n",
    "        self.log(\"train/acc\", self.train_acc, on_step=True, on_epoch=True, prog_bar=True)\n",
    "        \n",
    "        return loss\n",
    "    \n",
    "    def validation_step(self, batch, batch_idx):\n",
    "        loss, preds, targets, logits = self._shared_step(batch)\n",
    "        \n",
    "        # Log metrics\n",
    "        self.val_acc(preds, targets)\n",
    "        self.val_precision(preds, targets)\n",
    "        self.val_recall(preds, targets)\n",
    "        self.val_f1(preds, targets)\n",
    "        self.val_auroc(F.softmax(logits, dim=1), targets)\n",
    "        \n",
    "        self.log(\"val/loss\", loss, on_step=False, on_epoch=True, prog_bar=True)\n",
    "        self.log(\"val/acc\", self.val_acc, on_step=False, on_epoch=True, prog_bar=True)\n",
    "        self.log(\"val/precision\", self.val_precision, on_step=False, on_epoch=True)\n",
    "        self.log(\"val/recall\", self.val_recall, on_step=False, on_epoch=True)\n",
    "        self.log(\"val/f1\", self.val_f1, on_step=False, on_epoch=True)\n",
    "        self.log(\"val/auroc\", self.val_auroc, on_step=False, on_epoch=True)\n",
    "        \n",
    "        return loss\n",
    "    \n",
    "    def test_step(self, batch, batch_idx):\n",
    "        loss, preds, targets, _ = self._shared_step(batch)\n",
    "        \n",
    "        # Log metrics\n",
    "        self.test_acc(preds, targets)\n",
    "        self.log(\"test/loss\", loss, on_epoch=True)\n",
    "        self.log(\"test/acc\", self.test_acc, on_epoch=True)\n",
    "        \n",
    "        return loss\n",
    "    \n",
    "    def configure_optimizers(self):\n",
    "        # Different learning rates for backbone vs. classifier\n",
    "        backbone_params = []\n",
    "        classifier_params = []\n",
    "        \n",
    "        # Separate backbone and classifier parameters\n",
    "        for name, param in self.named_parameters():\n",
    "            if param.requires_grad:\n",
    "                if 'classifier' in name or 'global_pool' in name:\n",
    "                    classifier_params.append(param)\n",
    "                else:\n",
    "                    backbone_params.append(param)\n",
    "        \n",
    "        optimizer = torch.optim.Adam(\n",
    "            [\n",
    "                {\"params\": backbone_params, \"lr\": self.hparams.learning_rate / 10},\n",
    "                {\"params\": classifier_params, \"lr\": self.hparams.learning_rate}\n",
    "            ],\n",
    "            betas=(0.9, 0.999),\n",
    "            eps=1e-7,\n",
    "            weight_decay=self.hparams.weight_decay,\n",
    "            amsgrad=True\n",
    "        )\n",
    "        \n",
    "        # Learning rate scheduler\n",
    "        scheduler = torch.optim.lr_scheduler.ReduceLROnPlateau(\n",
    "            optimizer, \n",
    "            mode=\"min\", \n",
    "            factor=0.2, \n",
    "            patience=5, \n",
    "            min_lr=1e-6\n",
    "        )\n",
    "        \n",
    "        return {\n",
    "            \"optimizer\": optimizer,\n",
    "            \"lr_scheduler\": {\n",
    "                \"scheduler\": scheduler,\n",
    "                \"monitor\": \"val/loss\",\n",
    "                \"interval\": \"epoch\"\n",
    "            }\n",
    "        }"
   ]
  },
  {
   "cell_type": "code",
   "execution_count": 62,
   "id": "b2864839",
   "metadata": {},
   "outputs": [],
   "source": [
    "# Parameters\n",
    "data_dir = Path().resolve().parent / \"data\" / \"kmader\"\n",
    "batch_size = 16\n",
    "num_workers = 0\n",
    "fold = 1\n",
    "num_folds = 5\n",
    "max_epochs = 30\n",
    "log_dir = project_root / \"logs\" \n",
    "seed = 42"
   ]
  },
  {
   "cell_type": "code",
   "execution_count": null,
   "id": "9504bf73",
   "metadata": {},
   "outputs": [
    {
     "name": "stderr",
     "output_type": "stream",
     "text": [
      "GPU available: True (cuda), used: True\n",
      "TPU available: False, using: 0 TPU cores\n",
      "HPU available: False, using: 0 HPUs\n",
      "`Trainer(val_check_interval=1.0)` was configured so validation will run at the end of the training epoch..\n"
     ]
    }
   ],
   "source": [
    "# Parameters for fine-tuning\n",
    "learning_rate = 1e-4  # Match TF implementation\n",
    "max_epochs = 100\n",
    "batch_size = 16\n",
    "weight_decay = 5e-3  \n",
    "\n",
    "# Create unique experiment name\n",
    "experiment_name = f\"efficientnet_b1_fold{fold}_lr{learning_rate:.0e}_finetuned_v2\"\n",
    "\n",
    "data_module = SpiralDrawingsKFoldDataModule(\n",
    "    data_dir=data_dir,\n",
    "    k=fold,\n",
    "    num_splits=num_folds,\n",
    "    batch_size=batch_size,\n",
    "    num_workers=num_workers,\n",
    "    pin_memory=True,\n",
    "    split_seed=seed,\n",
    ")\n",
    "\n",
    "# Create model\n",
    "model = SpiralDrawingModel(\n",
    "    learning_rate=learning_rate,\n",
    "    weight_decay=weight_decay,\n",
    "    freeze_backbone=False,  # We'll unfreeze the last 50 layers\n",
    "    dropout_rate=0.5,      # Similar to TF implementation\n",
    "    unfreeze_layers=50     # Unfreeze last 50 layers as in TF\n",
    ")\n",
    "\n",
    "# Create logger\n",
    "logger = CSVLogger(save_dir=log_dir, name=experiment_name)\n",
    "\n",
    "# Define callbacks\n",
    "checkpoint_callback = ModelCheckpoint(\n",
    "    dirpath=f\"{log_dir}/{experiment_name}/checkpoints\",\n",
    "    filename=\"model-{epoch:02d}-{val/loss:.4f}\",\n",
    "    monitor=\"val/loss\",\n",
    "    mode=\"min\",\n",
    "    save_top_k=3,\n",
    "    save_last=True,\n",
    ")\n",
    "\n",
    "early_stop_callback = EarlyStopping(\n",
    "    monitor=\"val/loss\",\n",
    "    patience=10,\n",
    "    mode=\"min\",\n",
    "    min_delta=0.001,\n",
    "    verbose=True,\n",
    ")\n",
    "\n",
    "lr_monitor = LearningRateMonitor(logging_interval=\"epoch\")\n",
    "\n",
    "\n",
    "\n",
    "# Train the model\n",
    "trainer = L.Trainer(\n",
    "    accelerator=\"auto\",\n",
    "    devices=1,\n",
    "    max_epochs=max_epochs,\n",
    "    callbacks=[checkpoint_callback, early_stop_callback, lr_monitor],\n",
    "    logger=logger,\n",
    "    log_every_n_steps=10,\n",
    "    val_check_interval=1.0,\n",
    "    deterministic=True,\n",
    ")\n"
   ]
  },
  {
   "cell_type": "code",
   "execution_count": 64,
   "id": "febc6351",
   "metadata": {},
   "outputs": [
    {
     "name": "stderr",
     "output_type": "stream",
     "text": [
      "LOCAL_RANK: 0 - CUDA_VISIBLE_DEVICES: [0]\n",
      "\n",
      "  | Name          | Type                | Params | Mode \n",
      "--------------------------------------------------------------\n",
      "0 | model         | EfficientNet        | 8.4 M  | train\n",
      "1 | train_acc     | MulticlassAccuracy  | 0      | train\n",
      "2 | val_acc       | MulticlassAccuracy  | 0      | train\n",
      "3 | test_acc      | MulticlassAccuracy  | 0      | train\n",
      "4 | val_precision | MulticlassPrecision | 0      | train\n",
      "5 | val_recall    | MulticlassRecall    | 0      | train\n",
      "6 | val_f1        | MulticlassF1Score   | 0      | train\n",
      "7 | val_auroc     | MulticlassAUROC     | 0      | train\n",
      "--------------------------------------------------------------\n",
      "8.4 M     Trainable params\n",
      "0         Non-trainable params\n",
      "8.4 M     Total params\n",
      "33.415    Total estimated model params size (MB)\n",
      "488       Modules in train mode\n",
      "0         Modules in eval mode\n"
     ]
    },
    {
     "data": {
      "application/vnd.jupyter.widget-view+json": {
       "model_id": "8cdf1563f2a34e15bf595776939cb306",
       "version_major": 2,
       "version_minor": 0
      },
      "text/plain": [
       "Sanity Checking: |          | 0/? [00:00<?, ?it/s]"
      ]
     },
     "metadata": {},
     "output_type": "display_data"
    },
    {
     "name": "stderr",
     "output_type": "stream",
     "text": [
      "d:\\Workspace\\Repository\\ml-research-lab\\.ml-research-lab-venv\\Lib\\site-packages\\lightning\\pytorch\\trainer\\connectors\\data_connector.py:425: The 'val_dataloader' does not have many workers which may be a bottleneck. Consider increasing the value of the `num_workers` argument` to `num_workers=15` in the `DataLoader` to improve performance.\n",
      "d:\\Workspace\\Repository\\ml-research-lab\\.ml-research-lab-venv\\Lib\\site-packages\\lightning\\pytorch\\trainer\\connectors\\data_connector.py:425: The 'train_dataloader' does not have many workers which may be a bottleneck. Consider increasing the value of the `num_workers` argument` to `num_workers=15` in the `DataLoader` to improve performance.\n",
      "d:\\Workspace\\Repository\\ml-research-lab\\.ml-research-lab-venv\\Lib\\site-packages\\lightning\\pytorch\\loops\\fit_loop.py:310: The number of training batches (4) is smaller than the logging interval Trainer(log_every_n_steps=10). Set a lower value for log_every_n_steps if you want to see logs for the training epoch.\n"
     ]
    },
    {
     "data": {
      "application/vnd.jupyter.widget-view+json": {
       "model_id": "b63aa3dfa1c74e5ea0eca424ac986332",
       "version_major": 2,
       "version_minor": 0
      },
      "text/plain": [
       "Training: |          | 0/? [00:00<?, ?it/s]"
      ]
     },
     "metadata": {},
     "output_type": "display_data"
    },
    {
     "data": {
      "application/vnd.jupyter.widget-view+json": {
       "model_id": "59d5517ce4ed4b23979a7604b0818ab9",
       "version_major": 2,
       "version_minor": 0
      },
      "text/plain": [
       "Validation: |          | 0/? [00:00<?, ?it/s]"
      ]
     },
     "metadata": {},
     "output_type": "display_data"
    },
    {
     "name": "stderr",
     "output_type": "stream",
     "text": [
      "Metric val/loss improved. New best score: 0.664\n"
     ]
    },
    {
     "data": {
      "application/vnd.jupyter.widget-view+json": {
       "model_id": "f553da2c892241c8b3a7196a752e4ee0",
       "version_major": 2,
       "version_minor": 0
      },
      "text/plain": [
       "Validation: |          | 0/? [00:00<?, ?it/s]"
      ]
     },
     "metadata": {},
     "output_type": "display_data"
    },
    {
     "name": "stderr",
     "output_type": "stream",
     "text": [
      "Metric val/loss improved by 0.027 >= min_delta = 0.001. New best score: 0.638\n"
     ]
    },
    {
     "data": {
      "application/vnd.jupyter.widget-view+json": {
       "model_id": "f21aa3f168fa4eda81fabdb7b17bc5fe",
       "version_major": 2,
       "version_minor": 0
      },
      "text/plain": [
       "Validation: |          | 0/? [00:00<?, ?it/s]"
      ]
     },
     "metadata": {},
     "output_type": "display_data"
    },
    {
     "name": "stderr",
     "output_type": "stream",
     "text": [
      "Metric val/loss improved by 0.013 >= min_delta = 0.001. New best score: 0.624\n"
     ]
    },
    {
     "data": {
      "application/vnd.jupyter.widget-view+json": {
       "model_id": "91836d50cb314382a85cf5bbb88e4f98",
       "version_major": 2,
       "version_minor": 0
      },
      "text/plain": [
       "Validation: |          | 0/? [00:00<?, ?it/s]"
      ]
     },
     "metadata": {},
     "output_type": "display_data"
    },
    {
     "data": {
      "application/vnd.jupyter.widget-view+json": {
       "model_id": "8f266443ad1948b28e8a6f977ca0e222",
       "version_major": 2,
       "version_minor": 0
      },
      "text/plain": [
       "Validation: |          | 0/? [00:00<?, ?it/s]"
      ]
     },
     "metadata": {},
     "output_type": "display_data"
    },
    {
     "name": "stderr",
     "output_type": "stream",
     "text": [
      "Metric val/loss improved by 0.010 >= min_delta = 0.001. New best score: 0.614\n"
     ]
    },
    {
     "data": {
      "application/vnd.jupyter.widget-view+json": {
       "model_id": "e4e514735bca406c8725fb004b9272ed",
       "version_major": 2,
       "version_minor": 0
      },
      "text/plain": [
       "Validation: |          | 0/? [00:00<?, ?it/s]"
      ]
     },
     "metadata": {},
     "output_type": "display_data"
    },
    {
     "name": "stderr",
     "output_type": "stream",
     "text": [
      "Metric val/loss improved by 0.021 >= min_delta = 0.001. New best score: 0.593\n"
     ]
    },
    {
     "data": {
      "application/vnd.jupyter.widget-view+json": {
       "model_id": "93cd4df13505475592475c50f9658f0e",
       "version_major": 2,
       "version_minor": 0
      },
      "text/plain": [
       "Validation: |          | 0/? [00:00<?, ?it/s]"
      ]
     },
     "metadata": {},
     "output_type": "display_data"
    },
    {
     "name": "stderr",
     "output_type": "stream",
     "text": [
      "Metric val/loss improved by 0.024 >= min_delta = 0.001. New best score: 0.569\n"
     ]
    },
    {
     "data": {
      "application/vnd.jupyter.widget-view+json": {
       "model_id": "4d2aad6ac2004798bd73d77f5ee2c5a0",
       "version_major": 2,
       "version_minor": 0
      },
      "text/plain": [
       "Validation: |          | 0/? [00:00<?, ?it/s]"
      ]
     },
     "metadata": {},
     "output_type": "display_data"
    },
    {
     "name": "stderr",
     "output_type": "stream",
     "text": [
      "Metric val/loss improved by 0.010 >= min_delta = 0.001. New best score: 0.559\n"
     ]
    },
    {
     "data": {
      "application/vnd.jupyter.widget-view+json": {
       "model_id": "5fde4b1722804197b5de78a0f37e7e4a",
       "version_major": 2,
       "version_minor": 0
      },
      "text/plain": [
       "Validation: |          | 0/? [00:00<?, ?it/s]"
      ]
     },
     "metadata": {},
     "output_type": "display_data"
    },
    {
     "name": "stderr",
     "output_type": "stream",
     "text": [
      "Metric val/loss improved by 0.021 >= min_delta = 0.001. New best score: 0.538\n"
     ]
    },
    {
     "data": {
      "application/vnd.jupyter.widget-view+json": {
       "model_id": "1c683e3562564bc68ec17f22fa222eb4",
       "version_major": 2,
       "version_minor": 0
      },
      "text/plain": [
       "Validation: |          | 0/? [00:00<?, ?it/s]"
      ]
     },
     "metadata": {},
     "output_type": "display_data"
    },
    {
     "name": "stderr",
     "output_type": "stream",
     "text": [
      "Metric val/loss improved by 0.011 >= min_delta = 0.001. New best score: 0.527\n"
     ]
    },
    {
     "data": {
      "application/vnd.jupyter.widget-view+json": {
       "model_id": "e4c5669055f54ad79f500e4358ab42ed",
       "version_major": 2,
       "version_minor": 0
      },
      "text/plain": [
       "Validation: |          | 0/? [00:00<?, ?it/s]"
      ]
     },
     "metadata": {},
     "output_type": "display_data"
    },
    {
     "name": "stderr",
     "output_type": "stream",
     "text": [
      "Metric val/loss improved by 0.024 >= min_delta = 0.001. New best score: 0.503\n"
     ]
    },
    {
     "data": {
      "application/vnd.jupyter.widget-view+json": {
       "model_id": "c8b360c24fc0407ba5250a19092edd8b",
       "version_major": 2,
       "version_minor": 0
      },
      "text/plain": [
       "Validation: |          | 0/? [00:00<?, ?it/s]"
      ]
     },
     "metadata": {},
     "output_type": "display_data"
    },
    {
     "name": "stderr",
     "output_type": "stream",
     "text": [
      "Metric val/loss improved by 0.004 >= min_delta = 0.001. New best score: 0.500\n"
     ]
    },
    {
     "data": {
      "application/vnd.jupyter.widget-view+json": {
       "model_id": "1aa5456068184dd6bea93e45b21a906b",
       "version_major": 2,
       "version_minor": 0
      },
      "text/plain": [
       "Validation: |          | 0/? [00:00<?, ?it/s]"
      ]
     },
     "metadata": {},
     "output_type": "display_data"
    },
    {
     "name": "stderr",
     "output_type": "stream",
     "text": [
      "Metric val/loss improved by 0.005 >= min_delta = 0.001. New best score: 0.495\n"
     ]
    },
    {
     "data": {
      "application/vnd.jupyter.widget-view+json": {
       "model_id": "1f0f77a0dffe40ab888c853b83e4253b",
       "version_major": 2,
       "version_minor": 0
      },
      "text/plain": [
       "Validation: |          | 0/? [00:00<?, ?it/s]"
      ]
     },
     "metadata": {},
     "output_type": "display_data"
    },
    {
     "name": "stderr",
     "output_type": "stream",
     "text": [
      "Metric val/loss improved by 0.010 >= min_delta = 0.001. New best score: 0.485\n"
     ]
    },
    {
     "data": {
      "application/vnd.jupyter.widget-view+json": {
       "model_id": "2f3e4c8fe611498ab6456e6f5bffe59b",
       "version_major": 2,
       "version_minor": 0
      },
      "text/plain": [
       "Validation: |          | 0/? [00:00<?, ?it/s]"
      ]
     },
     "metadata": {},
     "output_type": "display_data"
    },
    {
     "name": "stderr",
     "output_type": "stream",
     "text": [
      "Metric val/loss improved by 0.016 >= min_delta = 0.001. New best score: 0.469\n"
     ]
    },
    {
     "data": {
      "application/vnd.jupyter.widget-view+json": {
       "model_id": "d7d2008836984422b1ac202d8c56bd3f",
       "version_major": 2,
       "version_minor": 0
      },
      "text/plain": [
       "Validation: |          | 0/? [00:00<?, ?it/s]"
      ]
     },
     "metadata": {},
     "output_type": "display_data"
    },
    {
     "name": "stderr",
     "output_type": "stream",
     "text": [
      "Metric val/loss improved by 0.023 >= min_delta = 0.001. New best score: 0.446\n"
     ]
    },
    {
     "data": {
      "application/vnd.jupyter.widget-view+json": {
       "model_id": "bf98a38992f44f9dab6be2685b97a01d",
       "version_major": 2,
       "version_minor": 0
      },
      "text/plain": [
       "Validation: |          | 0/? [00:00<?, ?it/s]"
      ]
     },
     "metadata": {},
     "output_type": "display_data"
    },
    {
     "name": "stderr",
     "output_type": "stream",
     "text": [
      "Metric val/loss improved by 0.021 >= min_delta = 0.001. New best score: 0.425\n"
     ]
    },
    {
     "data": {
      "application/vnd.jupyter.widget-view+json": {
       "model_id": "fe7a6d0407664d6c9aa750e3c66bcc38",
       "version_major": 2,
       "version_minor": 0
      },
      "text/plain": [
       "Validation: |          | 0/? [00:00<?, ?it/s]"
      ]
     },
     "metadata": {},
     "output_type": "display_data"
    },
    {
     "name": "stderr",
     "output_type": "stream",
     "text": [
      "Metric val/loss improved by 0.016 >= min_delta = 0.001. New best score: 0.409\n"
     ]
    },
    {
     "data": {
      "application/vnd.jupyter.widget-view+json": {
       "model_id": "8606582a83ba412492f2f58ba75ee756",
       "version_major": 2,
       "version_minor": 0
      },
      "text/plain": [
       "Validation: |          | 0/? [00:00<?, ?it/s]"
      ]
     },
     "metadata": {},
     "output_type": "display_data"
    },
    {
     "name": "stderr",
     "output_type": "stream",
     "text": [
      "Metric val/loss improved by 0.009 >= min_delta = 0.001. New best score: 0.400\n"
     ]
    },
    {
     "data": {
      "application/vnd.jupyter.widget-view+json": {
       "model_id": "513241c5c2564416b4e99116b618e40c",
       "version_major": 2,
       "version_minor": 0
      },
      "text/plain": [
       "Validation: |          | 0/? [00:00<?, ?it/s]"
      ]
     },
     "metadata": {},
     "output_type": "display_data"
    },
    {
     "data": {
      "application/vnd.jupyter.widget-view+json": {
       "model_id": "5dfda484848f4291a4d399f549d59a23",
       "version_major": 2,
       "version_minor": 0
      },
      "text/plain": [
       "Validation: |          | 0/? [00:00<?, ?it/s]"
      ]
     },
     "metadata": {},
     "output_type": "display_data"
    },
    {
     "name": "stderr",
     "output_type": "stream",
     "text": [
      "Metric val/loss improved by 0.020 >= min_delta = 0.001. New best score: 0.380\n"
     ]
    },
    {
     "data": {
      "application/vnd.jupyter.widget-view+json": {
       "model_id": "c8bce112698d40d2a465fffb3063acb0",
       "version_major": 2,
       "version_minor": 0
      },
      "text/plain": [
       "Validation: |          | 0/? [00:00<?, ?it/s]"
      ]
     },
     "metadata": {},
     "output_type": "display_data"
    },
    {
     "name": "stderr",
     "output_type": "stream",
     "text": [
      "Metric val/loss improved by 0.015 >= min_delta = 0.001. New best score: 0.365\n"
     ]
    },
    {
     "data": {
      "application/vnd.jupyter.widget-view+json": {
       "model_id": "10ea732119e042f287c26fc505889c87",
       "version_major": 2,
       "version_minor": 0
      },
      "text/plain": [
       "Validation: |          | 0/? [00:00<?, ?it/s]"
      ]
     },
     "metadata": {},
     "output_type": "display_data"
    },
    {
     "name": "stderr",
     "output_type": "stream",
     "text": [
      "Metric val/loss improved by 0.007 >= min_delta = 0.001. New best score: 0.358\n"
     ]
    },
    {
     "data": {
      "application/vnd.jupyter.widget-view+json": {
       "model_id": "ee2da50bf12f45a7b4c1ee7615c0b8f4",
       "version_major": 2,
       "version_minor": 0
      },
      "text/plain": [
       "Validation: |          | 0/? [00:00<?, ?it/s]"
      ]
     },
     "metadata": {},
     "output_type": "display_data"
    },
    {
     "name": "stderr",
     "output_type": "stream",
     "text": [
      "Metric val/loss improved by 0.005 >= min_delta = 0.001. New best score: 0.353\n"
     ]
    },
    {
     "data": {
      "application/vnd.jupyter.widget-view+json": {
       "model_id": "f238cbaa0fac4b51bffe419a5891ef5a",
       "version_major": 2,
       "version_minor": 0
      },
      "text/plain": [
       "Validation: |          | 0/? [00:00<?, ?it/s]"
      ]
     },
     "metadata": {},
     "output_type": "display_data"
    },
    {
     "data": {
      "application/vnd.jupyter.widget-view+json": {
       "model_id": "69d93d4f68b344ea9f832abcb2d4482f",
       "version_major": 2,
       "version_minor": 0
      },
      "text/plain": [
       "Validation: |          | 0/? [00:00<?, ?it/s]"
      ]
     },
     "metadata": {},
     "output_type": "display_data"
    },
    {
     "data": {
      "application/vnd.jupyter.widget-view+json": {
       "model_id": "40077d9fc33945ac9cf7d05cb4f8a29d",
       "version_major": 2,
       "version_minor": 0
      },
      "text/plain": [
       "Validation: |          | 0/? [00:00<?, ?it/s]"
      ]
     },
     "metadata": {},
     "output_type": "display_data"
    },
    {
     "data": {
      "application/vnd.jupyter.widget-view+json": {
       "model_id": "cd0380b12c264cf98fb446dfb9efa86c",
       "version_major": 2,
       "version_minor": 0
      },
      "text/plain": [
       "Validation: |          | 0/? [00:00<?, ?it/s]"
      ]
     },
     "metadata": {},
     "output_type": "display_data"
    },
    {
     "data": {
      "application/vnd.jupyter.widget-view+json": {
       "model_id": "91ee01ca991849e597145404cbe5949f",
       "version_major": 2,
       "version_minor": 0
      },
      "text/plain": [
       "Validation: |          | 0/? [00:00<?, ?it/s]"
      ]
     },
     "metadata": {},
     "output_type": "display_data"
    },
    {
     "data": {
      "application/vnd.jupyter.widget-view+json": {
       "model_id": "916df987d85b471e9b3887beab4284c7",
       "version_major": 2,
       "version_minor": 0
      },
      "text/plain": [
       "Validation: |          | 0/? [00:00<?, ?it/s]"
      ]
     },
     "metadata": {},
     "output_type": "display_data"
    },
    {
     "data": {
      "application/vnd.jupyter.widget-view+json": {
       "model_id": "3131584b4030422da3e2ed344ec5729d",
       "version_major": 2,
       "version_minor": 0
      },
      "text/plain": [
       "Validation: |          | 0/? [00:00<?, ?it/s]"
      ]
     },
     "metadata": {},
     "output_type": "display_data"
    },
    {
     "data": {
      "application/vnd.jupyter.widget-view+json": {
       "model_id": "a1938c35f530417cbae3a795d2b7ecbe",
       "version_major": 2,
       "version_minor": 0
      },
      "text/plain": [
       "Validation: |          | 0/? [00:00<?, ?it/s]"
      ]
     },
     "metadata": {},
     "output_type": "display_data"
    },
    {
     "data": {
      "application/vnd.jupyter.widget-view+json": {
       "model_id": "ba0ef3bd00c34959916c99f268aa199b",
       "version_major": 2,
       "version_minor": 0
      },
      "text/plain": [
       "Validation: |          | 0/? [00:00<?, ?it/s]"
      ]
     },
     "metadata": {},
     "output_type": "display_data"
    },
    {
     "data": {
      "application/vnd.jupyter.widget-view+json": {
       "model_id": "7255c2ccaae34f828a1d80e22f308bd5",
       "version_major": 2,
       "version_minor": 0
      },
      "text/plain": [
       "Validation: |          | 0/? [00:00<?, ?it/s]"
      ]
     },
     "metadata": {},
     "output_type": "display_data"
    },
    {
     "name": "stderr",
     "output_type": "stream",
     "text": [
      "Monitored metric val/loss did not improve in the last 10 records. Best score: 0.353. Signaling Trainer to stop.\n"
     ]
    }
   ],
   "source": [
    "trainer.fit(model, datamodule=data_module)"
   ]
  },
  {
   "cell_type": "code",
   "execution_count": 72,
   "id": "4156024d",
   "metadata": {},
   "outputs": [
    {
     "name": "stderr",
     "output_type": "stream",
     "text": [
      "Restoring states from the checkpoint path at D:\\Workspace\\Repository\\ml-research-lab\\spiral-drawing-digital-engine\\logs\\efficientnet_b1_fold1_lr1e-04_finetuned_v2\\checkpoints\\model-epoch=23-val/loss=0.3526.ckpt\n",
      "LOCAL_RANK: 0 - CUDA_VISIBLE_DEVICES: [0]\n",
      "Loaded model weights from the checkpoint at D:\\Workspace\\Repository\\ml-research-lab\\spiral-drawing-digital-engine\\logs\\efficientnet_b1_fold1_lr1e-04_finetuned_v2\\checkpoints\\model-epoch=23-val/loss=0.3526.ckpt\n",
      "d:\\Workspace\\Repository\\ml-research-lab\\.ml-research-lab-venv\\Lib\\site-packages\\lightning\\pytorch\\trainer\\connectors\\data_connector.py:425: The 'test_dataloader' does not have many workers which may be a bottleneck. Consider increasing the value of the `num_workers` argument` to `num_workers=15` in the `DataLoader` to improve performance.\n"
     ]
    },
    {
     "data": {
      "application/vnd.jupyter.widget-view+json": {
       "model_id": "574860256ca8472592da4b6e1c1d4971",
       "version_major": 2,
       "version_minor": 0
      },
      "text/plain": [
       "Testing: |          | 0/? [00:00<?, ?it/s]"
      ]
     },
     "metadata": {},
     "output_type": "display_data"
    },
    {
     "name": "stdout",
     "output_type": "stream",
     "text": [
      "────────────────────────────────────────────────────────────────────────────────────────────────────────────────────────\n",
      "       Test metric             DataLoader 0\n",
      "────────────────────────────────────────────────────────────────────────────────────────────────────────────────────────\n",
      "        test/acc            0.6000000238418579\n",
      "        test/loss           0.7647940516471863\n",
      "────────────────────────────────────────────────────────────────────────────────────────────────────────────────────────\n",
      "Best model checkpoint: D:\\Workspace\\Repository\\ml-research-lab\\spiral-drawing-digital-engine\\logs\\efficientnet_b1_fold1_lr1e-04_finetuned_v2\\checkpoints\\model-epoch=23-val/loss=0.3526.ckpt\n"
     ]
    }
   ],
   "source": [
    "# Get path to the best checkpoint\n",
    "best_model_path = checkpoint_callback.best_model_path\n",
    "\n",
    "# Test using the best model checkpoint\n",
    "trainer.test(model=None, datamodule=data_module, ckpt_path=best_model_path)\n",
    "\n",
    "print(f\"Best model checkpoint: {best_model_path}\")"
   ]
  },
  {
   "cell_type": "code",
   "execution_count": 71,
   "id": "25ddd639",
   "metadata": {},
   "outputs": [
    {
     "name": "stdout",
     "output_type": "stream",
     "text": [
      "Available columns: ['epoch', 'lr-Adam/pg1', 'lr-Adam/pg2', 'step', 'test/acc', 'test/loss', 'train/acc_epoch', 'train/acc_step', 'train/loss_epoch', 'train/loss_step', 'val/acc', 'val/auroc', 'val/f1', 'val/loss', 'val/precision', 'val/recall']\n"
     ]
    },
    {
     "data": {
      "image/png": "[encoded data removed]",
      "text/plain": [
       "<Figure size 1200x500 with 2 Axes>"
      ]
     },
     "metadata": {},
     "output_type": "display_data"
    }
   ],
   "source": [
    "# Load metrics\n",
    "metrics = pd.read_csv(f\"{log_dir}/{experiment_name}/version_3/metrics.csv\")\n",
    "\n",
    "# Print available columns to verify\n",
    "print(\"Available columns:\", metrics.columns.tolist())\n",
    "\n",
    "# Filter out rows with NaN epoch values\n",
    "metrics = metrics.dropna(subset=['epoch'])\n",
    "\n",
    "# Convert epoch to integer (important for proper sorting)\n",
    "metrics['epoch'] = metrics['epoch'].astype(int)\n",
    "\n",
    "# Get epochs that have both training and validation data\n",
    "train_epochs = set(metrics.dropna(subset=['train/loss_epoch'])['epoch'].unique())\n",
    "val_epochs = set(metrics.dropna(subset=['val/loss'])['epoch'].unique())\n",
    "common_epochs = sorted(list(train_epochs.intersection(val_epochs)))\n",
    "\n",
    "# Plot loss\n",
    "plt.figure(figsize=(12, 5))\n",
    "plt.subplot(1, 2, 1)\n",
    "\n",
    "# Group by epoch and get mean values for common epochs only\n",
    "train_loss = metrics[metrics['epoch'].isin(common_epochs)].groupby('epoch')['train/loss_epoch'].mean()\n",
    "val_loss = metrics[metrics['epoch'].isin(common_epochs)].groupby('epoch')['val/loss'].mean()\n",
    "\n",
    "plt.plot(common_epochs, train_loss, label=\"Train Loss\")\n",
    "plt.plot(common_epochs, val_loss, label=\"Val Loss\") \n",
    "plt.xlabel(\"Epoch\")\n",
    "plt.ylabel(\"Loss\")\n",
    "plt.legend()\n",
    "plt.grid(True)\n",
    "\n",
    "# Plot accuracy\n",
    "plt.subplot(1, 2, 2)\n",
    "\n",
    "# Group by epoch and get mean values for common epochs only\n",
    "train_acc = metrics[metrics['epoch'].isin(common_epochs)].groupby('epoch')['train/acc_epoch'].mean()\n",
    "val_acc = metrics[metrics['epoch'].isin(common_epochs)].groupby('epoch')['val/acc'].mean()\n",
    "\n",
    "plt.plot(common_epochs, train_acc, label=\"Train Acc\")\n",
    "plt.plot(common_epochs, val_acc, label=\"Val Acc\")\n",
    "plt.xlabel(\"Epoch\")\n",
    "plt.ylabel(\"Accuracy\")\n",
    "plt.legend()\n",
    "plt.grid(True)\n",
    "\n",
    "plt.tight_layout()\n",
    "plt.show()"
   ]
  }
 ],
 "metadata": {
  "kernelspec": {
   "display_name": ".ml-research-lab-venv",
   "language": "python",
   "name": "python3"
  },
  "language_info": {
   "codemirror_mode": {
    "name": "ipython",
    "version": 3
   },
   "file_extension": ".py",
   "mimetype": "text/x-python",
   "name": "python",
   "nbconvert_exporter": "python",
   "pygments_lexer": "ipython3",
   "version": "3.12.9"
  }
 },
 "nbformat": 4,
 "nbformat_minor": 5
}
