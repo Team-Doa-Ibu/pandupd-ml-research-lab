{
 "cells": [
  {
   "cell_type": "code",
   "execution_count": 1,
   "id": "7ef67447",
   "metadata": {},
   "outputs": [
    {
     "data": {
      "text/plain": [
       "WindowsPath('D:/Workspace/Repository/ml-research-lab/spiral-drawing-digital-engine')"
      ]
     },
     "execution_count": 1,
     "metadata": {},
     "output_type": "execute_result"
    }
   ],
   "source": [
    "import sys\n",
    "from pathlib import Path\n",
    "\n",
    "project_root = Path().resolve().parent \n",
    "sys.path.append(str(project_root))\n",
    "\n",
    "project_root"
   ]
  },
  {
   "cell_type": "code",
   "execution_count": 2,
   "id": "362483fd",
   "metadata": {},
   "outputs": [
    {
     "name": "stderr",
     "output_type": "stream",
     "text": [
      "Seed set to 123\n"
     ]
    }
   ],
   "source": [
    "import lightning as L\n",
    "from lightning.pytorch.loggers import CSVLogger\n",
    "from lightning.pytorch.callbacks import ModelCheckpoint, EarlyStopping, LearningRateMonitor\n",
    "import pandas as pd\n",
    "import numpy as np\n",
    "import torch\n",
    "import torch.nn as nn\n",
    "import torch.nn.functional as F\n",
    "import torch.optim as optim\n",
    "from torchmetrics import Accuracy, Precision, Recall, F1Score, AUROC\n",
    "import matplotlib.pyplot as plt\n",
    "import seaborn as sns\n",
    "\n",
    "L.pytorch.seed_everything(123)\n",
    "\n",
    "torch.set_float32_matmul_precision('medium')"
   ]
  },
  {
   "cell_type": "code",
   "execution_count": 3,
   "id": "93e5abf4",
   "metadata": {},
   "outputs": [
    {
     "name": "stdout",
     "output_type": "stream",
     "text": [
      "Using device: cuda\n"
     ]
    }
   ],
   "source": [
    "device = torch.device(\"cuda\" if torch.cuda.is_available() else \"cpu\")\n",
    "print(f\"Using device: {device}\")"
   ]
  },
  {
   "cell_type": "code",
   "execution_count": 4,
   "id": "b42c4687",
   "metadata": {},
   "outputs": [],
   "source": [
    "from torch.utils.data import DataLoader, Dataset\n",
    "from torchvision import transforms\n",
    "import os\n",
    "from PIL import Image\n"
   ]
  },
  {
   "cell_type": "code",
   "execution_count": 5,
   "id": "9c3aac1a",
   "metadata": {},
   "outputs": [],
   "source": [
    "from torchvision.models import resnet50, ResNet50_Weights"
   ]
  },
  {
   "cell_type": "markdown",
   "id": "77872cbe",
   "metadata": {},
   "source": [
    "# Load Dataset"
   ]
  },
  {
   "cell_type": "code",
   "execution_count": 6,
   "id": "cd5a0736",
   "metadata": {},
   "outputs": [],
   "source": [
    "data_dir = Path(project_root) / \"data\" / \"kmader\"\n",
    "train_dir = data_dir / \"training\"\n",
    "test_dir = data_dir / \"testing\""
   ]
  },
  {
   "cell_type": "markdown",
   "id": "27fb89a4",
   "metadata": {},
   "source": [
    "# DataLoader"
   ]
  },
  {
   "cell_type": "code",
   "execution_count": 7,
   "id": "78e668bf",
   "metadata": {},
   "outputs": [],
   "source": [
    "class ImageDataset(Dataset):\n",
    "    def __init__(self, data_dir, transform=None):\n",
    "        self.data_dir = data_dir\n",
    "        self.transform = transform\n",
    "        self.classes = os.listdir(data_dir)\n",
    "        self.class_to_idx = {cls_name: i for i, cls_name in enumerate(self.classes)}\n",
    "        \n",
    "        self.samples = []\n",
    "        for cls_name in self.classes:\n",
    "            cls_dir = os.path.join(data_dir, cls_name)\n",
    "            if os.path.isdir(cls_dir):\n",
    "                for img_name in os.listdir(cls_dir):\n",
    "                    if img_name.endswith(('.png', '.jpg', '.jpeg')):\n",
    "                        img_path = os.path.join(cls_dir, img_name)\n",
    "                        self.samples.append((img_path, self.class_to_idx[cls_name]))\n",
    "    \n",
    "    def __len__(self):\n",
    "        return len(self.samples)\n",
    "    \n",
    "    def __getitem__(self, idx):\n",
    "        img_path, label = self.samples[idx]\n",
    "        image = Image.open(img_path).convert('RGB')\n",
    "        \n",
    "        if self.transform:\n",
    "            image = self.transform(image)\n",
    "            \n",
    "        return image, label\n",
    "\n",
    "class SpiralDataModule(L.LightningDataModule):\n",
    "    def __init__(self, train_dir, test_dir, batch_size=16, image_size=224, val_split=0.2):\n",
    "        super().__init__()\n",
    "        self.train_dir = train_dir\n",
    "        self.test_dir = test_dir\n",
    "        self.batch_size = batch_size\n",
    "        self.image_size = image_size\n",
    "        self.val_split = val_split\n",
    "        \n",
    "    def setup(self, stage=None):\n",
    "        # Define transforms - strong augmentation for small dataset\n",
    "        self.train_transform = transforms.Compose([\n",
    "            transforms.Resize((self.image_size+32, self.image_size+32)),\n",
    "            transforms.ToTensor(),\n",
    "            transforms.Normalize(mean=[0.485, 0.456, 0.406], std=[0.229, 0.224, 0.225])\n",
    "        ])\n",
    "        \n",
    "        self.test_transform = transforms.Compose([\n",
    "            transforms.Resize((self.image_size, self.image_size)),\n",
    "            transforms.ToTensor(),\n",
    "            transforms.Normalize(mean=[0.485, 0.456, 0.406], std=[0.229, 0.224, 0.225])\n",
    "        ])\n",
    "        \n",
    "        # Create datasets\n",
    "        train_full = ImageDataset(self.train_dir, transform=self.train_transform)\n",
    "        \n",
    "        # Split into train/val\n",
    "        train_size = int((1 - self.val_split) * len(train_full))\n",
    "        val_size = len(train_full) - train_size\n",
    "        self.train_dataset, self.val_dataset = torch.utils.data.random_split(\n",
    "            train_full, [train_size, val_size]\n",
    "        )\n",
    "        \n",
    "        # Test dataset\n",
    "        self.test_dataset = ImageDataset(self.test_dir, transform=self.test_transform)\n",
    "        \n",
    "        # Store number of classes for model initialization\n",
    "        self.num_classes = len(train_full.classes)\n",
    "        print(f\"Dataset has {self.num_classes} classes with {len(train_full)} training samples\")\n",
    "        \n",
    "    def train_dataloader(self):\n",
    "        return DataLoader(self.train_dataset, batch_size=self.batch_size, shuffle=True, num_workers=0)\n",
    "    \n",
    "    def val_dataloader(self):\n",
    "        return DataLoader(self.val_dataset, batch_size=self.batch_size, num_workers=0)\n",
    "    \n",
    "    def test_dataloader(self):\n",
    "        return DataLoader(self.test_dataset, batch_size=self.batch_size, num_workers=0)"
   ]
  },
  {
   "cell_type": "code",
   "execution_count": 8,
   "id": "6c6e888c",
   "metadata": {},
   "outputs": [
    {
     "name": "stdout",
     "output_type": "stream",
     "text": [
      "Class distribution:\n",
      "healthy: 36\n",
      "parkinson: 36\n",
      "Number of classes: 2\n"
     ]
    }
   ],
   "source": [
    "train_dataset_full = ImageDataset(train_dir, transform=None)\n",
    "class_counts = {}\n",
    "for _, label in train_dataset_full.samples:\n",
    "    class_name = list(train_dataset_full.class_to_idx.keys())[label]\n",
    "    class_counts[class_name] = class_counts.get(class_name, 0) + 1\n",
    "\n",
    "print(\"Class distribution:\")\n",
    "for class_name, count in class_counts.items():\n",
    "    print(f\"{class_name}: {count}\")\n",
    "\n",
    "# Check if binary or multiclass\n",
    "print(f\"Number of classes: {len(class_counts)}\")"
   ]
  },
  {
   "cell_type": "markdown",
   "id": "31e9073c",
   "metadata": {},
   "source": [
    "# Model"
   ]
  },
  {
   "cell_type": "code",
   "execution_count": 9,
   "id": "f3849e62",
   "metadata": {},
   "outputs": [],
   "source": [
    "class ResNetTransferLearning(L.LightningModule):\n",
    "    def __init__(self, num_classes=2, learning_rate=3e-4, freeze_backbone=True, \n",
    "                 weight_decay=0.01, gradient_clip_val=1.0, label_smoothing=0.1):\n",
    "        super().__init__()\n",
    "        self.save_hyperparameters()\n",
    "        \n",
    "        # Load pre-trained model\n",
    "        self.model = resnet50(weights=ResNet50_Weights.IMAGENET1K_V2)\n",
    "        \n",
    "        # Freeze backbone if specified\n",
    "        if freeze_backbone:\n",
    "            for param in self.model.parameters():\n",
    "                param.requires_grad = False\n",
    "                \n",
    "        # Replace the final fully connected layer\n",
    "        in_features = self.model.fc.in_features\n",
    "        self.model.fc = nn.Sequential(\n",
    "            nn.Dropout(0.3),\n",
    "            nn.Linear(in_features, 512),\n",
    "            nn.BatchNorm1d(512),\n",
    "            nn.ReLU(),\n",
    "            nn.Dropout(0.5),\n",
    "            nn.Linear(512, num_classes)\n",
    "        )\n",
    "        \n",
    "        # Initialize weights properly for better training stability\n",
    "        for m in self.model.fc.modules():\n",
    "            if isinstance(m, nn.Linear):\n",
    "                nn.init.kaiming_normal_(m.weight, mode='fan_out', nonlinearity='relu')\n",
    "                if m.bias is not None:\n",
    "                    nn.init.constant_(m.bias, 0)\n",
    "        \n",
    "        # Define metrics\n",
    "        self.train_acc = Accuracy(task=\"multiclass\", num_classes=num_classes)\n",
    "        self.train_f1 = F1Score(task=\"multiclass\", num_classes=num_classes)\n",
    "        self.val_acc = Accuracy(task=\"multiclass\", num_classes=num_classes)\n",
    "        self.val_f1 = F1Score(task=\"multiclass\", num_classes=num_classes)\n",
    "        self.test_acc = Accuracy(task=\"multiclass\", num_classes=num_classes)\n",
    "        self.test_f1 = F1Score(task=\"multiclass\", num_classes=num_classes)\n",
    "        \n",
    "    def forward(self, x):\n",
    "        return self.model(x)\n",
    "    \n",
    "    def training_step(self, batch, batch_idx):\n",
    "        x, y = batch\n",
    "        logits = self(x)\n",
    "        loss = F.cross_entropy(logits, y, label_smoothing=self.hparams.label_smoothing)\n",
    "        preds = logits.softmax(dim=-1)\n",
    "        \n",
    "        # Log more metrics with on_step=False, on_epoch=True for epoch summaries\n",
    "        self.train_acc(preds, y)\n",
    "        self.train_f1(preds, y)\n",
    "        \n",
    "        self.log('train_loss', loss, prog_bar=True, on_step=True, on_epoch=True)\n",
    "        self.log('train_acc', self.train_acc, prog_bar=True, on_step=False, on_epoch=True)\n",
    "        self.log('train_f1', self.train_f1, on_step=False, on_epoch=True)\n",
    "        return loss\n",
    "    \n",
    "    def validation_step(self, batch, batch_idx):\n",
    "        x, y = batch\n",
    "        logits = self(x)\n",
    "        loss = F.cross_entropy(logits, y)\n",
    "        preds = logits.softmax(dim=-1)\n",
    "        \n",
    "        self.val_acc(preds, y)\n",
    "        self.val_f1(preds, y)\n",
    "        \n",
    "        self.log('val_loss', loss, prog_bar=True, on_epoch=True)\n",
    "        self.log('val_acc', self.val_acc, prog_bar=True, on_epoch=True)\n",
    "        self.log('val_f1', self.val_f1, on_epoch=True)\n",
    "    \n",
    "    def test_step(self, batch, batch_idx):\n",
    "        x, y = batch\n",
    "        logits = self(x)\n",
    "        loss = F.cross_entropy(logits, y)\n",
    "        self.test_acc(logits.softmax(dim=-1), y)\n",
    "        self.test_f1(logits.softmax(dim=-1), y)\n",
    "        \n",
    "        self.log('test_loss', loss)\n",
    "        self.log('test_acc', self.test_acc)\n",
    "        self.log('test_f1', self.test_f1)\n",
    "    \n",
    "    def configure_optimizers(self):\n",
    "        # Group parameters for different learning rates \n",
    "        # Only useful when backbone is unfrozen\n",
    "        backbone_params = []\n",
    "        head_params = []\n",
    "        \n",
    "        for name, param in self.named_parameters():\n",
    "            if 'fc' in name:\n",
    "                head_params.append(param)\n",
    "            elif param.requires_grad:\n",
    "                backbone_params.append(param)\n",
    "        \n",
    "        # Configure optimizer with weight decay\n",
    "        optimizer = torch.optim.AdamW(\n",
    "            [\n",
    "                {'params': backbone_params, 'lr': self.hparams.learning_rate * 0.1},\n",
    "                {'params': head_params, 'lr': self.hparams.learning_rate}\n",
    "            ],\n",
    "            lr=self.hparams.learning_rate,\n",
    "            weight_decay=self.hparams.weight_decay\n",
    "        )\n",
    "        \n",
    "        # Scheduler\n",
    "        scheduler = torch.optim.lr_scheduler.OneCycleLR(\n",
    "            optimizer, \n",
    "            max_lr=self.hparams.learning_rate,\n",
    "            total_steps=self.trainer.estimated_stepping_batches,\n",
    "            pct_start=0.1\n",
    "        )\n",
    "        \n",
    "        return {\n",
    "            \"optimizer\": optimizer,\n",
    "            \"lr_scheduler\": {\n",
    "                \"scheduler\": scheduler,\n",
    "                \"interval\": \"step\"\n",
    "            }\n",
    "        }"
   ]
  },
  {
   "cell_type": "markdown",
   "id": "e9b5de5e",
   "metadata": {},
   "source": [
    "# Train"
   ]
  },
  {
   "cell_type": "code",
   "execution_count": 10,
   "id": "2c36c45c",
   "metadata": {},
   "outputs": [
    {
     "name": "stdout",
     "output_type": "stream",
     "text": [
      "Dataset has 2 classes with 72 training samples\n"
     ]
    },
    {
     "name": "stderr",
     "output_type": "stream",
     "text": [
      "GPU available: True (cuda), used: True\n",
      "TPU available: False, using: 0 TPU cores\n",
      "HPU available: False, using: 0 HPUs\n"
     ]
    }
   ],
   "source": [
    "data_module = SpiralDataModule(\n",
    "    train_dir=train_dir,\n",
    "    test_dir=test_dir,\n",
    "    batch_size=16,\n",
    "    image_size=224\n",
    ")\n",
    "\n",
    "data_module.setup()\n",
    "\n",
    "model = ResNetTransferLearning(\n",
    "    num_classes=data_module.num_classes,\n",
    "    learning_rate=2e-4,           \n",
    "    freeze_backbone=True,\n",
    "    weight_decay=0.02,          \n",
    "    gradient_clip_val=0.5,       \n",
    "    label_smoothing=0.05      \n",
    ")\n",
    "\n",
    "checkpoint_callback = ModelCheckpoint(\n",
    "    dirpath=str(project_root / \"logs\" / \"resnet_checkpoints\"),\n",
    "    filename=\"resnet-{epoch:02d}-{val_acc:.4f}\",\n",
    "    monitor=\"val_acc\",\n",
    "    mode=\"max\",\n",
    "    save_top_k=2\n",
    ")\n",
    "\n",
    "early_stop_callback = EarlyStopping(\n",
    "    monitor=\"val_loss\",\n",
    "    patience=10,\n",
    "    verbose=True,\n",
    "    mode=\"min\"\n",
    ")\n",
    "\n",
    "lr_monitor = LearningRateMonitor(logging_interval='epoch')\n",
    "logger = CSVLogger(save_dir=str(project_root / \"logs\" / \"resnet_logs\"))\n",
    "\n",
    "trainer = L.Trainer(\n",
    "    max_epochs=50,\n",
    "    accelerator=\"auto\",\n",
    "    devices=1,\n",
    "    logger=logger,\n",
    "    callbacks=[checkpoint_callback, early_stop_callback, lr_monitor],\n",
    "    gradient_clip_val=0.5,\n",
    "    gradient_clip_algorithm=\"norm\",\n",
    "    accumulate_grad_batches=4,\n",
    ")"
   ]
  },
  {
   "cell_type": "code",
   "execution_count": 11,
   "id": "1a449377",
   "metadata": {},
   "outputs": [
    {
     "name": "stderr",
     "output_type": "stream",
     "text": [
      "LOCAL_RANK: 0 - CUDA_VISIBLE_DEVICES: [0]\n",
      "Loading `train_dataloader` to estimate number of stepping batches.\n",
      "d:\\Workspace\\Repository\\ml-research-lab\\.ml-research-lab-venv\\Lib\\site-packages\\lightning\\pytorch\\trainer\\connectors\\data_connector.py:425: The 'train_dataloader' does not have many workers which may be a bottleneck. Consider increasing the value of the `num_workers` argument` to `num_workers=15` in the `DataLoader` to improve performance.\n",
      "d:\\Workspace\\Repository\\ml-research-lab\\.ml-research-lab-venv\\Lib\\site-packages\\lightning\\pytorch\\loops\\fit_loop.py:310: The number of training batches (4) is smaller than the logging interval Trainer(log_every_n_steps=50). Set a lower value for log_every_n_steps if you want to see logs for the training epoch.\n",
      "\n",
      "  | Name      | Type               | Params | Mode \n",
      "---------------------------------------------------------\n",
      "0 | model     | ResNet             | 24.6 M | train\n",
      "1 | train_acc | MulticlassAccuracy | 0      | train\n",
      "2 | train_f1  | MulticlassF1Score  | 0      | train\n",
      "3 | val_acc   | MulticlassAccuracy | 0      | train\n",
      "4 | val_f1    | MulticlassF1Score  | 0      | train\n",
      "5 | test_acc  | MulticlassAccuracy | 0      | train\n",
      "6 | test_f1   | MulticlassF1Score  | 0      | train\n",
      "---------------------------------------------------------\n",
      "1.1 M     Trainable params\n",
      "23.5 M    Non-trainable params\n",
      "24.6 M    Total params\n",
      "98.237    Total estimated model params size (MB)\n",
      "163       Modules in train mode\n",
      "0         Modules in eval mode\n"
     ]
    },
    {
     "name": "stdout",
     "output_type": "stream",
     "text": [
      "Dataset has 2 classes with 72 training samples\n"
     ]
    },
    {
     "data": {
      "application/vnd.jupyter.widget-view+json": {
       "model_id": "18457fee8bbf4230aec4255d50044151",
       "version_major": 2,
       "version_minor": 0
      },
      "text/plain": [
       "Sanity Checking: |          | 0/? [00:00<?, ?it/s]"
      ]
     },
     "metadata": {},
     "output_type": "display_data"
    },
    {
     "name": "stderr",
     "output_type": "stream",
     "text": [
      "d:\\Workspace\\Repository\\ml-research-lab\\.ml-research-lab-venv\\Lib\\site-packages\\lightning\\pytorch\\trainer\\connectors\\data_connector.py:425: The 'val_dataloader' does not have many workers which may be a bottleneck. Consider increasing the value of the `num_workers` argument` to `num_workers=15` in the `DataLoader` to improve performance.\n"
     ]
    },
    {
     "data": {
      "application/vnd.jupyter.widget-view+json": {
       "model_id": "4f1f55593d7242b4b0e66f6516fc3327",
       "version_major": 2,
       "version_minor": 0
      },
      "text/plain": [
       "Training: |          | 0/? [00:00<?, ?it/s]"
      ]
     },
     "metadata": {},
     "output_type": "display_data"
    },
    {
     "data": {
      "application/vnd.jupyter.widget-view+json": {
       "model_id": "6d3ff3d2e5f94b5bb6c8396a737cbf96",
       "version_major": 2,
       "version_minor": 0
      },
      "text/plain": [
       "Validation: |          | 0/? [00:00<?, ?it/s]"
      ]
     },
     "metadata": {},
     "output_type": "display_data"
    },
    {
     "name": "stderr",
     "output_type": "stream",
     "text": [
      "Metric val_loss improved. New best score: 1.731\n"
     ]
    },
    {
     "data": {
      "application/vnd.jupyter.widget-view+json": {
       "model_id": "6ea43161d5ea4bc1aba0b31a1a3e6145",
       "version_major": 2,
       "version_minor": 0
      },
      "text/plain": [
       "Validation: |          | 0/? [00:00<?, ?it/s]"
      ]
     },
     "metadata": {},
     "output_type": "display_data"
    },
    {
     "data": {
      "application/vnd.jupyter.widget-view+json": {
       "model_id": "3a36323576a74b61996051b73ef5b4d5",
       "version_major": 2,
       "version_minor": 0
      },
      "text/plain": [
       "Validation: |          | 0/? [00:00<?, ?it/s]"
      ]
     },
     "metadata": {},
     "output_type": "display_data"
    },
    {
     "name": "stderr",
     "output_type": "stream",
     "text": [
      "Metric val_loss improved by 0.068 >= min_delta = 0.0. New best score: 1.663\n"
     ]
    },
    {
     "data": {
      "application/vnd.jupyter.widget-view+json": {
       "model_id": "6c54a1c275bb45a289a11d6f8587783a",
       "version_major": 2,
       "version_minor": 0
      },
      "text/plain": [
       "Validation: |          | 0/? [00:00<?, ?it/s]"
      ]
     },
     "metadata": {},
     "output_type": "display_data"
    },
    {
     "name": "stderr",
     "output_type": "stream",
     "text": [
      "Metric val_loss improved by 0.270 >= min_delta = 0.0. New best score: 1.393\n"
     ]
    },
    {
     "data": {
      "application/vnd.jupyter.widget-view+json": {
       "model_id": "154c962dab824dadb10d48ba988547e3",
       "version_major": 2,
       "version_minor": 0
      },
      "text/plain": [
       "Validation: |          | 0/? [00:00<?, ?it/s]"
      ]
     },
     "metadata": {},
     "output_type": "display_data"
    },
    {
     "data": {
      "application/vnd.jupyter.widget-view+json": {
       "model_id": "eeb47cf4d86946698181f8d2634fb766",
       "version_major": 2,
       "version_minor": 0
      },
      "text/plain": [
       "Validation: |          | 0/? [00:00<?, ?it/s]"
      ]
     },
     "metadata": {},
     "output_type": "display_data"
    },
    {
     "data": {
      "application/vnd.jupyter.widget-view+json": {
       "model_id": "e85d616c743941e89714fa152fceeb0c",
       "version_major": 2,
       "version_minor": 0
      },
      "text/plain": [
       "Validation: |          | 0/? [00:00<?, ?it/s]"
      ]
     },
     "metadata": {},
     "output_type": "display_data"
    },
    {
     "data": {
      "application/vnd.jupyter.widget-view+json": {
       "model_id": "2ff9b442504a47518b8afc2eab230258",
       "version_major": 2,
       "version_minor": 0
      },
      "text/plain": [
       "Validation: |          | 0/? [00:00<?, ?it/s]"
      ]
     },
     "metadata": {},
     "output_type": "display_data"
    },
    {
     "data": {
      "application/vnd.jupyter.widget-view+json": {
       "model_id": "4de344217bab4eb2a3d4e2fae517e5f3",
       "version_major": 2,
       "version_minor": 0
      },
      "text/plain": [
       "Validation: |          | 0/? [00:00<?, ?it/s]"
      ]
     },
     "metadata": {},
     "output_type": "display_data"
    },
    {
     "name": "stderr",
     "output_type": "stream",
     "text": [
      "Metric val_loss improved by 0.061 >= min_delta = 0.0. New best score: 1.332\n"
     ]
    },
    {
     "data": {
      "application/vnd.jupyter.widget-view+json": {
       "model_id": "6cf522b68d464b7994a23f7694fc2c56",
       "version_major": 2,
       "version_minor": 0
      },
      "text/plain": [
       "Validation: |          | 0/? [00:00<?, ?it/s]"
      ]
     },
     "metadata": {},
     "output_type": "display_data"
    },
    {
     "data": {
      "application/vnd.jupyter.widget-view+json": {
       "model_id": "f0244291ee434c7893319436e7950974",
       "version_major": 2,
       "version_minor": 0
      },
      "text/plain": [
       "Validation: |          | 0/? [00:00<?, ?it/s]"
      ]
     },
     "metadata": {},
     "output_type": "display_data"
    },
    {
     "data": {
      "application/vnd.jupyter.widget-view+json": {
       "model_id": "1809ea62303b4b688b0d9e133eae76e9",
       "version_major": 2,
       "version_minor": 0
      },
      "text/plain": [
       "Validation: |          | 0/? [00:00<?, ?it/s]"
      ]
     },
     "metadata": {},
     "output_type": "display_data"
    },
    {
     "data": {
      "application/vnd.jupyter.widget-view+json": {
       "model_id": "85d04bdf0481470eb73c5bbcbd9240d0",
       "version_major": 2,
       "version_minor": 0
      },
      "text/plain": [
       "Validation: |          | 0/? [00:00<?, ?it/s]"
      ]
     },
     "metadata": {},
     "output_type": "display_data"
    },
    {
     "data": {
      "application/vnd.jupyter.widget-view+json": {
       "model_id": "6dd6b60cf1014b8eb28563b1ed006cfb",
       "version_major": 2,
       "version_minor": 0
      },
      "text/plain": [
       "Validation: |          | 0/? [00:00<?, ?it/s]"
      ]
     },
     "metadata": {},
     "output_type": "display_data"
    },
    {
     "data": {
      "application/vnd.jupyter.widget-view+json": {
       "model_id": "8b7c908db83440d2bb19327f71acb74a",
       "version_major": 2,
       "version_minor": 0
      },
      "text/plain": [
       "Validation: |          | 0/? [00:00<?, ?it/s]"
      ]
     },
     "metadata": {},
     "output_type": "display_data"
    },
    {
     "data": {
      "application/vnd.jupyter.widget-view+json": {
       "model_id": "eb927ee913f9459796f5008f89f8193c",
       "version_major": 2,
       "version_minor": 0
      },
      "text/plain": [
       "Validation: |          | 0/? [00:00<?, ?it/s]"
      ]
     },
     "metadata": {},
     "output_type": "display_data"
    },
    {
     "data": {
      "application/vnd.jupyter.widget-view+json": {
       "model_id": "9c63ce18757d49ed9e4f84262af1d1f5",
       "version_major": 2,
       "version_minor": 0
      },
      "text/plain": [
       "Validation: |          | 0/? [00:00<?, ?it/s]"
      ]
     },
     "metadata": {},
     "output_type": "display_data"
    },
    {
     "name": "stderr",
     "output_type": "stream",
     "text": [
      "Metric val_loss improved by 0.408 >= min_delta = 0.0. New best score: 0.923\n"
     ]
    },
    {
     "data": {
      "application/vnd.jupyter.widget-view+json": {
       "model_id": "9e69bc98380f410a90d0ff6ca74e2df8",
       "version_major": 2,
       "version_minor": 0
      },
      "text/plain": [
       "Validation: |          | 0/? [00:00<?, ?it/s]"
      ]
     },
     "metadata": {},
     "output_type": "display_data"
    },
    {
     "name": "stderr",
     "output_type": "stream",
     "text": [
      "Metric val_loss improved by 0.285 >= min_delta = 0.0. New best score: 0.638\n"
     ]
    },
    {
     "data": {
      "application/vnd.jupyter.widget-view+json": {
       "model_id": "dc6b10e32f514c22890d27769d3e9bc5",
       "version_major": 2,
       "version_minor": 0
      },
      "text/plain": [
       "Validation: |          | 0/? [00:00<?, ?it/s]"
      ]
     },
     "metadata": {},
     "output_type": "display_data"
    },
    {
     "data": {
      "application/vnd.jupyter.widget-view+json": {
       "model_id": "cdeb657c373345b8a454790ee4f99589",
       "version_major": 2,
       "version_minor": 0
      },
      "text/plain": [
       "Validation: |          | 0/? [00:00<?, ?it/s]"
      ]
     },
     "metadata": {},
     "output_type": "display_data"
    },
    {
     "name": "stderr",
     "output_type": "stream",
     "text": [
      "Metric val_loss improved by 0.308 >= min_delta = 0.0. New best score: 0.330\n"
     ]
    },
    {
     "data": {
      "application/vnd.jupyter.widget-view+json": {
       "model_id": "feda6a4dd8f04039a89e951e24257354",
       "version_major": 2,
       "version_minor": 0
      },
      "text/plain": [
       "Validation: |          | 0/? [00:00<?, ?it/s]"
      ]
     },
     "metadata": {},
     "output_type": "display_data"
    },
    {
     "name": "stderr",
     "output_type": "stream",
     "text": [
      "Metric val_loss improved by 0.005 >= min_delta = 0.0. New best score: 0.325\n"
     ]
    },
    {
     "data": {
      "application/vnd.jupyter.widget-view+json": {
       "model_id": "44137c249241411ca8ae9d2e72f01f80",
       "version_major": 2,
       "version_minor": 0
      },
      "text/plain": [
       "Validation: |          | 0/? [00:00<?, ?it/s]"
      ]
     },
     "metadata": {},
     "output_type": "display_data"
    },
    {
     "name": "stderr",
     "output_type": "stream",
     "text": [
      "Metric val_loss improved by 0.103 >= min_delta = 0.0. New best score: 0.222\n"
     ]
    },
    {
     "data": {
      "application/vnd.jupyter.widget-view+json": {
       "model_id": "cc5bad1159fa44eeb8bd361deac7dedc",
       "version_major": 2,
       "version_minor": 0
      },
      "text/plain": [
       "Validation: |          | 0/? [00:00<?, ?it/s]"
      ]
     },
     "metadata": {},
     "output_type": "display_data"
    },
    {
     "name": "stderr",
     "output_type": "stream",
     "text": [
      "Metric val_loss improved by 0.219 >= min_delta = 0.0. New best score: 0.003\n"
     ]
    },
    {
     "data": {
      "application/vnd.jupyter.widget-view+json": {
       "model_id": "f33f7563c3e749cc85dcc5b78baa2e26",
       "version_major": 2,
       "version_minor": 0
      },
      "text/plain": [
       "Validation: |          | 0/? [00:00<?, ?it/s]"
      ]
     },
     "metadata": {},
     "output_type": "display_data"
    },
    {
     "data": {
      "application/vnd.jupyter.widget-view+json": {
       "model_id": "8b221501df294d56bc8a2b6a3b52e39d",
       "version_major": 2,
       "version_minor": 0
      },
      "text/plain": [
       "Validation: |          | 0/? [00:00<?, ?it/s]"
      ]
     },
     "metadata": {},
     "output_type": "display_data"
    },
    {
     "data": {
      "application/vnd.jupyter.widget-view+json": {
       "model_id": "91748ac7952040c1a84739351e481dc9",
       "version_major": 2,
       "version_minor": 0
      },
      "text/plain": [
       "Validation: |          | 0/? [00:00<?, ?it/s]"
      ]
     },
     "metadata": {},
     "output_type": "display_data"
    },
    {
     "name": "stderr",
     "output_type": "stream",
     "text": [
      "Metric val_loss improved by 0.002 >= min_delta = 0.0. New best score: 0.001\n"
     ]
    },
    {
     "data": {
      "application/vnd.jupyter.widget-view+json": {
       "model_id": "900d4f80f1b8472eadf9a7ad80896a30",
       "version_major": 2,
       "version_minor": 0
      },
      "text/plain": [
       "Validation: |          | 0/? [00:00<?, ?it/s]"
      ]
     },
     "metadata": {},
     "output_type": "display_data"
    },
    {
     "name": "stderr",
     "output_type": "stream",
     "text": [
      "Metric val_loss improved by 0.001 >= min_delta = 0.0. New best score: 0.000\n"
     ]
    },
    {
     "data": {
      "application/vnd.jupyter.widget-view+json": {
       "model_id": "abb797aee3934900b6c4be6273945673",
       "version_major": 2,
       "version_minor": 0
      },
      "text/plain": [
       "Validation: |          | 0/? [00:00<?, ?it/s]"
      ]
     },
     "metadata": {},
     "output_type": "display_data"
    },
    {
     "data": {
      "application/vnd.jupyter.widget-view+json": {
       "model_id": "4e6300f9b2724cbabc9f2211112542c6",
       "version_major": 2,
       "version_minor": 0
      },
      "text/plain": [
       "Validation: |          | 0/? [00:00<?, ?it/s]"
      ]
     },
     "metadata": {},
     "output_type": "display_data"
    },
    {
     "data": {
      "application/vnd.jupyter.widget-view+json": {
       "model_id": "078d41f858144588aa5afde533ed1dc2",
       "version_major": 2,
       "version_minor": 0
      },
      "text/plain": [
       "Validation: |          | 0/? [00:00<?, ?it/s]"
      ]
     },
     "metadata": {},
     "output_type": "display_data"
    },
    {
     "name": "stderr",
     "output_type": "stream",
     "text": [
      "Metric val_loss improved by 0.000 >= min_delta = 0.0. New best score: 0.000\n"
     ]
    },
    {
     "data": {
      "application/vnd.jupyter.widget-view+json": {
       "model_id": "9d200c7765b34e69a8f687145a9a8f38",
       "version_major": 2,
       "version_minor": 0
      },
      "text/plain": [
       "Validation: |          | 0/? [00:00<?, ?it/s]"
      ]
     },
     "metadata": {},
     "output_type": "display_data"
    },
    {
     "data": {
      "application/vnd.jupyter.widget-view+json": {
       "model_id": "d1b6be0297e940ad921c3eba010a84a9",
       "version_major": 2,
       "version_minor": 0
      },
      "text/plain": [
       "Validation: |          | 0/? [00:00<?, ?it/s]"
      ]
     },
     "metadata": {},
     "output_type": "display_data"
    },
    {
     "name": "stderr",
     "output_type": "stream",
     "text": [
      "Metric val_loss improved by 0.000 >= min_delta = 0.0. New best score: 0.000\n"
     ]
    },
    {
     "data": {
      "application/vnd.jupyter.widget-view+json": {
       "model_id": "be10e310cae147babb80641fc7c5edfa",
       "version_major": 2,
       "version_minor": 0
      },
      "text/plain": [
       "Validation: |          | 0/? [00:00<?, ?it/s]"
      ]
     },
     "metadata": {},
     "output_type": "display_data"
    },
    {
     "name": "stderr",
     "output_type": "stream",
     "text": [
      "Metric val_loss improved by 0.000 >= min_delta = 0.0. New best score: 0.000\n"
     ]
    },
    {
     "data": {
      "application/vnd.jupyter.widget-view+json": {
       "model_id": "acd2aafd01cb46259c47bc7eee9382d7",
       "version_major": 2,
       "version_minor": 0
      },
      "text/plain": [
       "Validation: |          | 0/? [00:00<?, ?it/s]"
      ]
     },
     "metadata": {},
     "output_type": "display_data"
    },
    {
     "data": {
      "application/vnd.jupyter.widget-view+json": {
       "model_id": "7221edc18fce457d9fa607300f7e413f",
       "version_major": 2,
       "version_minor": 0
      },
      "text/plain": [
       "Validation: |          | 0/? [00:00<?, ?it/s]"
      ]
     },
     "metadata": {},
     "output_type": "display_data"
    },
    {
     "data": {
      "application/vnd.jupyter.widget-view+json": {
       "model_id": "75bbcc0fa1c34baf8b8ad9e3bfc152e7",
       "version_major": 2,
       "version_minor": 0
      },
      "text/plain": [
       "Validation: |          | 0/? [00:00<?, ?it/s]"
      ]
     },
     "metadata": {},
     "output_type": "display_data"
    },
    {
     "data": {
      "application/vnd.jupyter.widget-view+json": {
       "model_id": "0aa709a3d7a54068b0474380b2ecfb6e",
       "version_major": 2,
       "version_minor": 0
      },
      "text/plain": [
       "Validation: |          | 0/? [00:00<?, ?it/s]"
      ]
     },
     "metadata": {},
     "output_type": "display_data"
    },
    {
     "data": {
      "application/vnd.jupyter.widget-view+json": {
       "model_id": "8586b6e061c84cfa8a6d250213408c2a",
       "version_major": 2,
       "version_minor": 0
      },
      "text/plain": [
       "Validation: |          | 0/? [00:00<?, ?it/s]"
      ]
     },
     "metadata": {},
     "output_type": "display_data"
    },
    {
     "data": {
      "application/vnd.jupyter.widget-view+json": {
       "model_id": "d640865699d248128ab0bb96e2695626",
       "version_major": 2,
       "version_minor": 0
      },
      "text/plain": [
       "Validation: |          | 0/? [00:00<?, ?it/s]"
      ]
     },
     "metadata": {},
     "output_type": "display_data"
    },
    {
     "data": {
      "application/vnd.jupyter.widget-view+json": {
       "model_id": "00f220d8e9184f95a7be7c37d88d6498",
       "version_major": 2,
       "version_minor": 0
      },
      "text/plain": [
       "Validation: |          | 0/? [00:00<?, ?it/s]"
      ]
     },
     "metadata": {},
     "output_type": "display_data"
    },
    {
     "data": {
      "application/vnd.jupyter.widget-view+json": {
       "model_id": "729c457164214c849c60bfcf2fa261aa",
       "version_major": 2,
       "version_minor": 0
      },
      "text/plain": [
       "Validation: |          | 0/? [00:00<?, ?it/s]"
      ]
     },
     "metadata": {},
     "output_type": "display_data"
    },
    {
     "data": {
      "application/vnd.jupyter.widget-view+json": {
       "model_id": "4df392fb10ea4b069185f9eee244556c",
       "version_major": 2,
       "version_minor": 0
      },
      "text/plain": [
       "Validation: |          | 0/? [00:00<?, ?it/s]"
      ]
     },
     "metadata": {},
     "output_type": "display_data"
    },
    {
     "data": {
      "application/vnd.jupyter.widget-view+json": {
       "model_id": "821f02ea071048959efa44c348b4489d",
       "version_major": 2,
       "version_minor": 0
      },
      "text/plain": [
       "Validation: |          | 0/? [00:00<?, ?it/s]"
      ]
     },
     "metadata": {},
     "output_type": "display_data"
    },
    {
     "name": "stderr",
     "output_type": "stream",
     "text": [
      "Monitored metric val_loss did not improve in the last 10 records. Best score: 0.000. Signaling Trainer to stop.\n"
     ]
    }
   ],
   "source": [
    "trainer.fit(model, data_module)"
   ]
  },
  {
   "cell_type": "markdown",
   "id": "17870ff2",
   "metadata": {},
   "source": [
    "# CV Train"
   ]
  },
  {
   "cell_type": "code",
   "execution_count": 12,
   "id": "fe76e45b",
   "metadata": {},
   "outputs": [],
   "source": [
    "# # Add a new cell for cross-validation\n",
    "# from sklearn.model_selection import KFold\n",
    "\n",
    "# num_folds = 5\n",
    "# kfold = KFold(n_splits=num_folds, shuffle=True, random_seed=42)\n",
    "\n",
    "# # Load your full dataset (without splitting)\n",
    "# full_dataset = ImageDataset(train_dir, transform=None)\n",
    "\n",
    "# val_scores = []\n",
    "# test_scores = []\n",
    "\n",
    "# for fold, (train_idx, val_idx) in enumerate(kfold.split(full_dataset.samples)):\n",
    "#     print(f\"Training fold {fold+1}/{num_folds}\")\n",
    "    \n",
    "#     # Create custom DataModule for this fold\n",
    "#     fold_data_module = SpiralDataModule(\n",
    "#         train_dir=train_dir,\n",
    "#         test_dir=test_dir,\n",
    "#         batch_size=8,\n",
    "#         image_size=224\n",
    "#     )\n",
    "    \n",
    "#     # Override setup method with custom indices\n",
    "#     fold_data_module.setup()\n",
    "#     # Use the custom splits from KFold\n",
    "#     fold_data_module.train_dataset = torch.utils.data.Subset(\n",
    "#         fold_data_module.train_dataset.dataset, train_idx)\n",
    "#     fold_data_module.val_dataset = torch.utils.data.Subset(\n",
    "#         fold_data_module.train_dataset.dataset, val_idx)\n",
    "    \n",
    "#     # Initialize a new model\n",
    "#     fold_model = ResNetTransferLearning(\n",
    "#         num_classes=fold_data_module.num_classes,\n",
    "#         learning_rate=5e-5,\n",
    "#         freeze_backbone=True,\n",
    "#         weight_decay=0.1,\n",
    "#         gradient_clip_val=0.3,\n",
    "#         label_smoothing=0.15\n",
    "#     )\n",
    "    \n",
    "#     # Train model\n",
    "#     fold_trainer = L.Trainer(\n",
    "#         max_epochs=30,  # Reduce epochs per fold\n",
    "#         accelerator=\"auto\",\n",
    "#         devices=1,\n",
    "#         logger=CSVLogger(save_dir=str(project_root / \"logs\" / f\"resnet_logs_fold{fold}\")),\n",
    "#         callbacks=[checkpoint_callback, early_stop_callback, lr_monitor],\n",
    "#         gradient_clip_val=0.3,\n",
    "#     )\n",
    "    \n",
    "#     fold_trainer.fit(fold_model, fold_data_module)\n",
    "    \n",
    "#     # Evaluate on validation and test\n",
    "#     val_result = fold_trainer.validate(fold_model, fold_data_module, ckpt_path=\"best\")\n",
    "#     test_result = fold_trainer.test(fold_model, fold_data_module, ckpt_path=\"best\")\n",
    "    \n",
    "#     val_scores.append(val_result[0]['val_acc'])\n",
    "#     test_scores.append(test_result[0]['test_acc'])\n",
    "\n",
    "# # Print final cross-validation results\n",
    "# print(f\"Cross-validation results:\")\n",
    "# print(f\"Mean validation accuracy: {np.mean(val_scores):.4f} ± {np.std(val_scores):.4f}\")\n",
    "# print(f\"Mean test accuracy: {np.mean(test_scores):.4f} ± {np.std(test_scores):.4f}\")"
   ]
  },
  {
   "cell_type": "markdown",
   "id": "61b7c44f",
   "metadata": {},
   "source": [
    "# Eval"
   ]
  },
  {
   "cell_type": "code",
   "execution_count": 14,
   "id": "366835ad",
   "metadata": {},
   "outputs": [
    {
     "name": "stderr",
     "output_type": "stream",
     "text": [
      "Restoring states from the checkpoint path at D:\\Workspace\\Repository\\ml-research-lab\\spiral-drawing-digital-engine\\logs\\resnet_checkpoints\\resnet-epoch=22-val_acc=1.0000.ckpt\n",
      "LOCAL_RANK: 0 - CUDA_VISIBLE_DEVICES: [0]\n",
      "Loaded model weights from the checkpoint at D:\\Workspace\\Repository\\ml-research-lab\\spiral-drawing-digital-engine\\logs\\resnet_checkpoints\\resnet-epoch=22-val_acc=1.0000.ckpt\n"
     ]
    },
    {
     "name": "stdout",
     "output_type": "stream",
     "text": [
      "Dataset has 2 classes with 72 training samples\n"
     ]
    },
    {
     "data": {
      "application/vnd.jupyter.widget-view+json": {
       "model_id": "aaa77a65a7084045ba325f367874f5f6",
       "version_major": 2,
       "version_minor": 0
      },
      "text/plain": [
       "Validation: |          | 0/? [00:00<?, ?it/s]"
      ]
     },
     "metadata": {},
     "output_type": "display_data"
    },
    {
     "name": "stdout",
     "output_type": "stream",
     "text": [
      "────────────────────────────────────────────────────────────────────────────────────────────────────────────────────────\n",
      "     Validate metric           DataLoader 0\n",
      "────────────────────────────────────────────────────────────────────────────────────────────────────────────────────────\n",
      "         val_acc            0.9333333373069763\n",
      "         val_f1             0.9333333373069763\n",
      "        val_loss            0.11158230900764465\n",
      "────────────────────────────────────────────────────────────────────────────────────────────────────────────────────────\n",
      "Validation accuracy: 0.9333\n"
     ]
    }
   ],
   "source": [
    "val_results = trainer.validate(model, data_module, ckpt_path=\"best\") \n",
    "print(f\"Validation accuracy: {val_results[0]['val_acc']:.4f}\")"
   ]
  },
  {
   "cell_type": "code",
   "execution_count": 15,
   "id": "16bfe05c",
   "metadata": {},
   "outputs": [
    {
     "name": "stderr",
     "output_type": "stream",
     "text": [
      "Restoring states from the checkpoint path at D:\\Workspace\\Repository\\ml-research-lab\\spiral-drawing-digital-engine\\logs\\resnet_checkpoints\\resnet-epoch=22-val_acc=1.0000.ckpt\n",
      "LOCAL_RANK: 0 - CUDA_VISIBLE_DEVICES: [0]\n",
      "Loaded model weights from the checkpoint at D:\\Workspace\\Repository\\ml-research-lab\\spiral-drawing-digital-engine\\logs\\resnet_checkpoints\\resnet-epoch=22-val_acc=1.0000.ckpt\n"
     ]
    },
    {
     "name": "stdout",
     "output_type": "stream",
     "text": [
      "Dataset has 2 classes with 72 training samples\n"
     ]
    },
    {
     "name": "stderr",
     "output_type": "stream",
     "text": [
      "d:\\Workspace\\Repository\\ml-research-lab\\.ml-research-lab-venv\\Lib\\site-packages\\lightning\\pytorch\\trainer\\connectors\\data_connector.py:425: The 'test_dataloader' does not have many workers which may be a bottleneck. Consider increasing the value of the `num_workers` argument` to `num_workers=15` in the `DataLoader` to improve performance.\n"
     ]
    },
    {
     "data": {
      "application/vnd.jupyter.widget-view+json": {
       "model_id": "8922b9b42b8d4eb98d1fc3e6b30cc68f",
       "version_major": 2,
       "version_minor": 0
      },
      "text/plain": [
       "Testing: |          | 0/? [00:00<?, ?it/s]"
      ]
     },
     "metadata": {},
     "output_type": "display_data"
    },
    {
     "name": "stdout",
     "output_type": "stream",
     "text": [
      "────────────────────────────────────────────────────────────────────────────────────────────────────────────────────────\n",
      "       Test metric             DataLoader 0\n",
      "────────────────────────────────────────────────────────────────────────────────────────────────────────────────────────\n",
      "        test_acc            0.7666666507720947\n",
      "         test_f1            0.7666666507720947\n",
      "        test_loss           3.8927507400512695\n",
      "────────────────────────────────────────────────────────────────────────────────────────────────────────────────────────\n"
     ]
    },
    {
     "data": {
      "text/plain": [
       "[{'test_loss': 3.8927507400512695,\n",
       "  'test_acc': 0.7666666507720947,\n",
       "  'test_f1': 0.7666666507720947}]"
      ]
     },
     "execution_count": 15,
     "metadata": {},
     "output_type": "execute_result"
    }
   ],
   "source": [
    "# Evaluate the model\n",
    "trainer.test(model, data_module, ckpt_path=\"best\")"
   ]
  },
  {
   "cell_type": "code",
   "execution_count": 16,
   "id": "628de09c",
   "metadata": {},
   "outputs": [
    {
     "name": "stdout",
     "output_type": "stream",
     "text": [
      "Loading metrics from D:\\Workspace\\Repository\\ml-research-lab\\spiral-drawing-digital-engine\\logs\\resnet_logs\\lightning_logs\\version_44\n"
     ]
    },
    {
     "data": {
      "image/png": "[encoded data removed]",
      "text/plain": [
       "<Figure size 1000x500 with 1 Axes>"
      ]
     },
     "metadata": {},
     "output_type": "display_data"
    },
    {
     "data": {
      "image/png": "[encoded data removed]",
      "text/plain": [
       "<Figure size 1000x500 with 1 Axes>"
      ]
     },
     "metadata": {},
     "output_type": "display_data"
    }
   ],
   "source": [
    "def get_latest_version_path(base_log_dir):\n",
    "    \"\"\"Find the latest version folder in Lightning logs directory\"\"\"\n",
    "    version_dirs = list(Path(base_log_dir).glob(\"version_*\"))\n",
    "    if not version_dirs:\n",
    "        raise FileNotFoundError(f\"No version folders found in {base_log_dir}\")\n",
    "    \n",
    "    # Extract version numbers and find the highest one\n",
    "    version_numbers = [int(path.name.split(\"_\")[1]) for path in version_dirs]\n",
    "    latest_version = max(version_numbers)\n",
    "    \n",
    "    return Path(base_log_dir) / f\"version_{latest_version}\"\n",
    "\n",
    "# Base logs directory\n",
    "logs_dir = project_root / \"logs\" / \"resnet_logs\" / \"lightning_logs\"\n",
    "\n",
    "# Get latest version path\n",
    "latest_version_path = get_latest_version_path(logs_dir)\n",
    "print(f\"Loading metrics from {latest_version_path}\")\n",
    "\n",
    "# Load training metrics\n",
    "metrics = pd.read_csv(str(latest_version_path / \"metrics.csv\"))\n",
    "\n",
    "# Plot training and validation loss\n",
    "plt.figure(figsize=(10, 5))\n",
    "train_loss = metrics[metrics['train_loss_epoch'].notna()][['epoch', 'train_loss_epoch']].groupby('epoch').mean()\n",
    "val_loss = metrics[metrics['val_loss'].notna()][['epoch', 'val_loss']].groupby('epoch').mean()\n",
    "\n",
    "plt.plot(train_loss.index, train_loss['train_loss_epoch'], label='Train Loss')\n",
    "plt.plot(val_loss.index, val_loss['val_loss'], label='Validation Loss')\n",
    "plt.xlabel('Epoch')\n",
    "plt.ylabel('Loss')\n",
    "plt.legend()\n",
    "plt.title('Training and Validation Loss')\n",
    "plt.show()\n",
    "\n",
    "# Plot accuracy\n",
    "plt.figure(figsize=(10, 5))\n",
    "train_acc = metrics[metrics['train_acc'].notna()][['epoch', 'train_acc']].groupby('epoch').mean()\n",
    "val_acc = metrics[metrics['val_acc'].notna()][['epoch', 'val_acc']].groupby('epoch').mean()\n",
    "\n",
    "plt.plot(train_acc.index, train_acc['train_acc'], label='Train Accuracy')\n",
    "plt.plot(val_acc.index, val_acc['val_acc'], label='Validation Accuracy')\n",
    "plt.xlabel('Epoch')\n",
    "plt.ylabel('Accuracy')\n",
    "plt.legend()\n",
    "plt.title('Training and Validation Accuracy')\n",
    "plt.show()"
   ]
  }
 ],
 "metadata": {
  "kernelspec": {
   "display_name": ".ml-research-lab-venv",
   "language": "python",
   "name": "python3"
  },
  "language_info": {
   "codemirror_mode": {
    "name": "ipython",
    "version": 3
   },
   "file_extension": ".py",
   "mimetype": "text/x-python",
   "name": "python",
   "nbconvert_exporter": "python",
   "pygments_lexer": "ipython3",
   "version": "3.12.9"
  }
 },
 "nbformat": 4,
 "nbformat_minor": 5
}
